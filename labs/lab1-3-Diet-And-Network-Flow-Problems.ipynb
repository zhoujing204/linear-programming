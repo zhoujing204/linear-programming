{
 "cells": [
  {
   "cell_type": "code",
   "execution_count": null,
   "metadata": {
    "ExecuteTime": {
     "end_time": "2023-10-06T13:01:18.215418Z",
     "start_time": "2023-10-06T13:01:18.197693Z"
    }
   },
   "outputs": [],
   "source": [
    "try:\n",
    "    %load_ext autotime\n",
    "except:\n",
    "    !pip install ipython-autotime\n",
    "    %load_ext autotime"
   ]
  },
  {
   "cell_type": "markdown",
   "metadata": {},
   "source": [
    "## The Diet Problem \n",
    "\n",
    "Let's try to model a more complicated problem of figuring out caloric requirements for a student who is trying to eat on a budget. We can make this problem quite complicated and have fun with it but for now, we will keep it somewhat simple.  \n",
    "\n",
    "In order to sustain life, we need to eat carbohydrates and nutrients. Too little nutrients will cause severe health problems as will too much nutrients. Here is the data on the nutrients we need and their limits.\n",
    "\n",
    "### Diet Problem Data\n",
    "This data is available as part of our file `diet_nutrients.csv`.  Let's load the file and examine its contents."
   ]
  },
  {
   "cell_type": "code",
   "execution_count": 1,
   "metadata": {
    "ExecuteTime": {
     "end_time": "2023-10-06T13:01:21.109191Z",
     "start_time": "2023-10-06T13:01:18.541972Z"
    }
   },
   "outputs": [
    {
     "data": {
      "text/html": [
       "<div>\n",
       "<style scoped>\n",
       "    .dataframe tbody tr th:only-of-type {\n",
       "        vertical-align: middle;\n",
       "    }\n",
       "\n",
       "    .dataframe tbody tr th {\n",
       "        vertical-align: top;\n",
       "    }\n",
       "\n",
       "    .dataframe thead th {\n",
       "        text-align: right;\n",
       "    }\n",
       "</style>\n",
       "<table border=\"1\" class=\"dataframe\">\n",
       "  <thead>\n",
       "    <tr style=\"text-align: right;\">\n",
       "      <th></th>\n",
       "      <th>name</th>\n",
       "      <th>qmin</th>\n",
       "      <th>qmax</th>\n",
       "    </tr>\n",
       "  </thead>\n",
       "  <tbody>\n",
       "    <tr>\n",
       "      <th>0</th>\n",
       "      <td>Calories</td>\n",
       "      <td>2000</td>\n",
       "      <td>2500</td>\n",
       "    </tr>\n",
       "    <tr>\n",
       "      <th>1</th>\n",
       "      <td>Calcium</td>\n",
       "      <td>800</td>\n",
       "      <td>1600</td>\n",
       "    </tr>\n",
       "    <tr>\n",
       "      <th>2</th>\n",
       "      <td>Iron</td>\n",
       "      <td>10</td>\n",
       "      <td>30</td>\n",
       "    </tr>\n",
       "    <tr>\n",
       "      <th>3</th>\n",
       "      <td>Vit_A</td>\n",
       "      <td>5000</td>\n",
       "      <td>50000</td>\n",
       "    </tr>\n",
       "    <tr>\n",
       "      <th>4</th>\n",
       "      <td>Dietary_Fiber</td>\n",
       "      <td>25</td>\n",
       "      <td>100</td>\n",
       "    </tr>\n",
       "    <tr>\n",
       "      <th>5</th>\n",
       "      <td>Carbohydrates</td>\n",
       "      <td>0</td>\n",
       "      <td>300</td>\n",
       "    </tr>\n",
       "    <tr>\n",
       "      <th>6</th>\n",
       "      <td>Protein</td>\n",
       "      <td>50</td>\n",
       "      <td>100</td>\n",
       "    </tr>\n",
       "  </tbody>\n",
       "</table>\n",
       "</div>"
      ],
      "text/plain": [
       "            name  qmin   qmax\n",
       "0       Calories  2000   2500\n",
       "1        Calcium   800   1600\n",
       "2           Iron    10     30\n",
       "3          Vit_A  5000  50000\n",
       "4  Dietary_Fiber    25    100\n",
       "5  Carbohydrates     0    300\n",
       "6        Protein    50    100"
      ]
     },
     "metadata": {},
     "output_type": "display_data"
    }
   ],
   "source": [
    "import pandas as pd # pandas is a very useful library for loading and processing data\n",
    "df_nutrients = pd.read_csv('diet_nutrients.csv')\n",
    "display(df_nutrients)"
   ]
  },
  {
   "cell_type": "markdown",
   "metadata": {},
   "source": [
    "The file specifies some nutrients and the desired limits. Thus, we would like the student to eat between 2000 and 2500 calories, get between 800-1600 units of Calcium, 10-30 units of iron and so on.\n",
    "Various foods will provide these nutrients in different amounts."
   ]
  },
  {
   "cell_type": "code",
   "execution_count": 5,
   "metadata": {
    "ExecuteTime": {
     "end_time": "2023-10-06T13:01:21.148650Z",
     "start_time": "2023-10-06T13:01:21.115344Z"
    }
   },
   "outputs": [
    {
     "data": {
      "text/html": [
       "<div>\n",
       "<style scoped>\n",
       "    .dataframe tbody tr th:only-of-type {\n",
       "        vertical-align: middle;\n",
       "    }\n",
       "\n",
       "    .dataframe tbody tr th {\n",
       "        vertical-align: top;\n",
       "    }\n",
       "\n",
       "    .dataframe thead th {\n",
       "        text-align: right;\n",
       "    }\n",
       "</style>\n",
       "<table border=\"1\" class=\"dataframe\">\n",
       "  <thead>\n",
       "    <tr style=\"text-align: right;\">\n",
       "      <th></th>\n",
       "      <th>Food</th>\n",
       "      <th>Calories</th>\n",
       "      <th>Calcium</th>\n",
       "      <th>Iron</th>\n",
       "      <th>Vit_A</th>\n",
       "      <th>Dietary_Fiber</th>\n",
       "      <th>Carbohydrates</th>\n",
       "      <th>Protein</th>\n",
       "    </tr>\n",
       "  </thead>\n",
       "  <tbody>\n",
       "    <tr>\n",
       "      <th>0</th>\n",
       "      <td>Roasted Chicken</td>\n",
       "      <td>277.4</td>\n",
       "      <td>21.9</td>\n",
       "      <td>1.8</td>\n",
       "      <td>77.4</td>\n",
       "      <td>0.0</td>\n",
       "      <td>0.0</td>\n",
       "      <td>42.2</td>\n",
       "    </tr>\n",
       "    <tr>\n",
       "      <th>1</th>\n",
       "      <td>Spaghetti W/ Sauce</td>\n",
       "      <td>358.2</td>\n",
       "      <td>80.2</td>\n",
       "      <td>2.3</td>\n",
       "      <td>3055.2</td>\n",
       "      <td>11.6</td>\n",
       "      <td>58.3</td>\n",
       "      <td>8.2</td>\n",
       "    </tr>\n",
       "    <tr>\n",
       "      <th>2</th>\n",
       "      <td>Tomato,Red,Ripe,Raw</td>\n",
       "      <td>25.8</td>\n",
       "      <td>6.2</td>\n",
       "      <td>0.6</td>\n",
       "      <td>766.3</td>\n",
       "      <td>1.4</td>\n",
       "      <td>5.7</td>\n",
       "      <td>1.0</td>\n",
       "    </tr>\n",
       "    <tr>\n",
       "      <th>3</th>\n",
       "      <td>Apple,Raw,W/Skin</td>\n",
       "      <td>81.4</td>\n",
       "      <td>9.7</td>\n",
       "      <td>0.2</td>\n",
       "      <td>73.1</td>\n",
       "      <td>3.7</td>\n",
       "      <td>21.0</td>\n",
       "      <td>0.3</td>\n",
       "    </tr>\n",
       "    <tr>\n",
       "      <th>4</th>\n",
       "      <td>Grapes</td>\n",
       "      <td>15.1</td>\n",
       "      <td>3.4</td>\n",
       "      <td>0.1</td>\n",
       "      <td>24.0</td>\n",
       "      <td>0.2</td>\n",
       "      <td>4.1</td>\n",
       "      <td>0.2</td>\n",
       "    </tr>\n",
       "    <tr>\n",
       "      <th>5</th>\n",
       "      <td>Chocolate Chip Cookies</td>\n",
       "      <td>78.1</td>\n",
       "      <td>6.2</td>\n",
       "      <td>0.4</td>\n",
       "      <td>101.8</td>\n",
       "      <td>0.0</td>\n",
       "      <td>9.3</td>\n",
       "      <td>0.9</td>\n",
       "    </tr>\n",
       "    <tr>\n",
       "      <th>6</th>\n",
       "      <td>Lowfat Milk</td>\n",
       "      <td>121.2</td>\n",
       "      <td>296.7</td>\n",
       "      <td>0.1</td>\n",
       "      <td>500.2</td>\n",
       "      <td>0.0</td>\n",
       "      <td>11.7</td>\n",
       "      <td>8.1</td>\n",
       "    </tr>\n",
       "    <tr>\n",
       "      <th>7</th>\n",
       "      <td>Raisin Brn</td>\n",
       "      <td>115.1</td>\n",
       "      <td>12.9</td>\n",
       "      <td>16.8</td>\n",
       "      <td>1250.2</td>\n",
       "      <td>4.0</td>\n",
       "      <td>27.9</td>\n",
       "      <td>4.0</td>\n",
       "    </tr>\n",
       "    <tr>\n",
       "      <th>8</th>\n",
       "      <td>Hotdog</td>\n",
       "      <td>242.1</td>\n",
       "      <td>23.5</td>\n",
       "      <td>2.3</td>\n",
       "      <td>0.0</td>\n",
       "      <td>0.0</td>\n",
       "      <td>18.0</td>\n",
       "      <td>10.4</td>\n",
       "    </tr>\n",
       "  </tbody>\n",
       "</table>\n",
       "</div>"
      ],
      "text/plain": [
       "                     Food  Calories  Calcium  Iron   Vit_A  Dietary_Fiber  \\\n",
       "0         Roasted Chicken     277.4     21.9   1.8    77.4            0.0   \n",
       "1      Spaghetti W/ Sauce     358.2     80.2   2.3  3055.2           11.6   \n",
       "2     Tomato,Red,Ripe,Raw      25.8      6.2   0.6   766.3            1.4   \n",
       "3        Apple,Raw,W/Skin      81.4      9.7   0.2    73.1            3.7   \n",
       "4                  Grapes      15.1      3.4   0.1    24.0            0.2   \n",
       "5  Chocolate Chip Cookies      78.1      6.2   0.4   101.8            0.0   \n",
       "6             Lowfat Milk     121.2    296.7   0.1   500.2            0.0   \n",
       "7              Raisin Brn     115.1     12.9  16.8  1250.2            4.0   \n",
       "8                  Hotdog     242.1     23.5   2.3     0.0            0.0   \n",
       "\n",
       "   Carbohydrates  Protein  \n",
       "0            0.0     42.2  \n",
       "1           58.3      8.2  \n",
       "2            5.7      1.0  \n",
       "3           21.0      0.3  \n",
       "4            4.1      0.2  \n",
       "5            9.3      0.9  \n",
       "6           11.7      8.1  \n",
       "7           27.9      4.0  \n",
       "8           18.0     10.4  "
      ]
     },
     "metadata": {},
     "output_type": "display_data"
    },
    {
     "name": "stdout",
     "output_type": "stream",
     "text": [
      "time: 22.8 ms (started: 2023-10-06 13:14:00 +00:00)\n"
     ]
    }
   ],
   "source": [
    "import pandas as pd # pandas is a very useful library for loading and processing data\n",
    "df_food_nutrients = pd.read_csv('diet_food_nutrients.csv')\n",
    "display(df_food_nutrients)"
   ]
  },
  {
   "cell_type": "markdown",
   "metadata": {},
   "source": [
    "Note that we have a list of 9 foods and each of them provides the required nutrients in different amounts. For instance a serving of grapes provides 15.1 calories, 3.4 units of calcium, 0.1 units of iron and so on. \n",
    "\n",
    "Another aspect is how much these foods cost and their availability."
   ]
  },
  {
   "cell_type": "code",
   "execution_count": 6,
   "metadata": {
    "ExecuteTime": {
     "end_time": "2023-10-06T13:01:21.169656Z",
     "start_time": "2023-10-06T13:01:21.152282Z"
    }
   },
   "outputs": [
    {
     "data": {
      "text/html": [
       "<div>\n",
       "<style scoped>\n",
       "    .dataframe tbody tr th:only-of-type {\n",
       "        vertical-align: middle;\n",
       "    }\n",
       "\n",
       "    .dataframe tbody tr th {\n",
       "        vertical-align: top;\n",
       "    }\n",
       "\n",
       "    .dataframe thead th {\n",
       "        text-align: right;\n",
       "    }\n",
       "</style>\n",
       "<table border=\"1\" class=\"dataframe\">\n",
       "  <thead>\n",
       "    <tr style=\"text-align: right;\">\n",
       "      <th></th>\n",
       "      <th>name</th>\n",
       "      <th>unit_cost</th>\n",
       "      <th>qmin</th>\n",
       "      <th>qmax</th>\n",
       "    </tr>\n",
       "  </thead>\n",
       "  <tbody>\n",
       "    <tr>\n",
       "      <th>0</th>\n",
       "      <td>Roasted Chicken</td>\n",
       "      <td>0.84</td>\n",
       "      <td>0</td>\n",
       "      <td>10</td>\n",
       "    </tr>\n",
       "    <tr>\n",
       "      <th>1</th>\n",
       "      <td>Spaghetti W/ Sauce</td>\n",
       "      <td>0.78</td>\n",
       "      <td>0</td>\n",
       "      <td>10</td>\n",
       "    </tr>\n",
       "    <tr>\n",
       "      <th>2</th>\n",
       "      <td>Tomato,Red,Ripe,Raw</td>\n",
       "      <td>0.27</td>\n",
       "      <td>0</td>\n",
       "      <td>10</td>\n",
       "    </tr>\n",
       "    <tr>\n",
       "      <th>3</th>\n",
       "      <td>Apple,Raw,W/Skin</td>\n",
       "      <td>0.24</td>\n",
       "      <td>0</td>\n",
       "      <td>10</td>\n",
       "    </tr>\n",
       "    <tr>\n",
       "      <th>4</th>\n",
       "      <td>Grapes</td>\n",
       "      <td>0.32</td>\n",
       "      <td>0</td>\n",
       "      <td>10</td>\n",
       "    </tr>\n",
       "    <tr>\n",
       "      <th>5</th>\n",
       "      <td>Chocolate Chip Cookies</td>\n",
       "      <td>0.03</td>\n",
       "      <td>0</td>\n",
       "      <td>10</td>\n",
       "    </tr>\n",
       "    <tr>\n",
       "      <th>6</th>\n",
       "      <td>Lowfat Milk</td>\n",
       "      <td>0.23</td>\n",
       "      <td>0</td>\n",
       "      <td>10</td>\n",
       "    </tr>\n",
       "    <tr>\n",
       "      <th>7</th>\n",
       "      <td>Raisin Brn</td>\n",
       "      <td>0.34</td>\n",
       "      <td>0</td>\n",
       "      <td>10</td>\n",
       "    </tr>\n",
       "    <tr>\n",
       "      <th>8</th>\n",
       "      <td>Hotdog</td>\n",
       "      <td>0.31</td>\n",
       "      <td>0</td>\n",
       "      <td>10</td>\n",
       "    </tr>\n",
       "  </tbody>\n",
       "</table>\n",
       "</div>"
      ],
      "text/plain": [
       "                     name  unit_cost  qmin  qmax\n",
       "0         Roasted Chicken       0.84     0    10\n",
       "1      Spaghetti W/ Sauce       0.78     0    10\n",
       "2     Tomato,Red,Ripe,Raw       0.27     0    10\n",
       "3        Apple,Raw,W/Skin       0.24     0    10\n",
       "4                  Grapes       0.32     0    10\n",
       "5  Chocolate Chip Cookies       0.03     0    10\n",
       "6             Lowfat Milk       0.23     0    10\n",
       "7              Raisin Brn       0.34     0    10\n",
       "8                  Hotdog       0.31     0    10"
      ]
     },
     "metadata": {},
     "output_type": "display_data"
    },
    {
     "name": "stdout",
     "output_type": "stream",
     "text": [
      "time: 10.8 ms (started: 2023-10-06 13:14:03 +00:00)\n"
     ]
    }
   ],
   "source": [
    "import pandas as pd # pandas is a very useful library for loading and processing data\n",
    "df_foods = pd.read_csv('diet_food.csv')\n",
    "display(df_foods)"
   ]
  },
  {
   "cell_type": "markdown",
   "metadata": {},
   "source": [
    "Therefore, the goal of the diet problem is to decide how many servings of each food a student must eat so that \n",
    "  - The overall cost of the food is minimized\n",
    "  - The nutritional goals are met.\n",
    "      - In other words for each nutrient, the student gets the appropriate amount of that nutrient within the specified lower and upper limits.\n",
    "\n",
    "### Diet Problem LP Formulation: Decision Variables\n",
    "Suppose there are $n$ foods $F_1, \\ldots, F_n$, the decision variables we need are $x_1, \\ldots, x_n$ wherein $x_i$ is the number of servings of food $F_i$ that we wish the student to eat. Clearly, we need $x_i \\geq 0$ since a student cannot eat a negative amount of food. We are OK with fractions of servings since you could always eat 1/4th of a serving of grapes. Let's create a list of food decision variables: one per food."
   ]
  },
  {
   "cell_type": "code",
   "execution_count": 7,
   "metadata": {
    "ExecuteTime": {
     "end_time": "2023-10-06T13:01:21.189136Z",
     "start_time": "2023-10-06T13:01:21.176013Z"
    }
   },
   "outputs": [
    {
     "name": "stdout",
     "output_type": "stream",
     "text": [
      "The foods are:\n",
      "\t ['Roasted Chicken', 'Spaghetti W/ Sauce', 'Tomato,Red,Ripe,Raw', 'Apple,Raw,W/Skin', 'Grapes', 'Chocolate Chip Cookies', 'Lowfat Milk', 'Raisin Brn', 'Hotdog']\n",
      "The variables are:\n",
      "\t {'Roasted Chicken': x_1, 'Spaghetti W/ Sauce': x_2, 'Tomato,Red,Ripe,Raw': x_3, 'Apple,Raw,W/Skin': x_4, 'Grapes': x_5, 'Chocolate Chip Cookies': x_6, 'Lowfat Milk': x_7, 'Raisin Brn': x_8, 'Hotdog': x_9}\n",
      "time: 22.4 ms (started: 2023-10-06 13:14:06 +00:00)\n"
     ]
    }
   ],
   "source": [
    "from pulp import *\n",
    "# pulp is a very nice python interface that can work with numerous LP solvers in the backend.\n",
    "# It allows us a very simple and intuitive interface to write and solve LPs.\n",
    "# Create the problem and specify that we are minimizing the objective\n",
    "model = LpProblem(\"DietProblem\", LpMinimize)\n",
    "\n",
    "#Let's create our decision variables.\n",
    "num_foods = df_foods.shape[0] # number of rows in data frame = # of foods\n",
    "#here is a list of all food names\n",
    "food_names = list(df_foods['name'])\n",
    "print('The foods are:')\n",
    "print('\\t' ,food_names)\n",
    "\n",
    "# create a list of food decision variables\n",
    "food_decision_variables = [LpVariable('x_'+str(j+1), 0.0, None) for j in range(num_foods)]\n",
    "# Note: the argument 0.0 in creating LpVariable already sets lower bound\n",
    "# of the variable created to 0.0. No need to add x >= 0 constraint.\n",
    "# The None argument indicates that no upper bound is needed.\n",
    "\n",
    "\n",
    "# make a dictionary that maps the variable for each food name. This will be useful\n",
    "food_name_to_dec_var = {name:var for (name, var) in zip(food_names, food_decision_variables)}\n",
    "print('The variables are:')\n",
    "print('\\t', food_name_to_dec_var)"
   ]
  },
  {
   "cell_type": "markdown",
   "metadata": {},
   "source": [
    "### LP Formulation for Diet Problem: Objective Function\n",
    "\n",
    "The objective function is to minimize the total cost of the food. For each food, we have the cost/serving\n",
    "data. We need to minimize\n",
    "\n",
    "$$ c_1 x_1 + \\cdots + c_n x_n$$ \n",
    "\n",
    "wherein $c_i$ is the given cost/serving of food $F_i$.\n"
   ]
  },
  {
   "cell_type": "code",
   "execution_count": 8,
   "metadata": {
    "ExecuteTime": {
     "end_time": "2023-10-06T13:01:21.204400Z",
     "start_time": "2023-10-06T13:01:21.196927Z"
    }
   },
   "outputs": [
    {
     "name": "stdout",
     "output_type": "stream",
     "text": [
      "Objective function: 0.84*x_1 + 0.78*x_2 + 0.27*x_3 + 0.24*x_4 + 0.32*x_5 + 0.03*x_6 + 0.23*x_7 + 0.34*x_8 + 0.31*x_9\n",
      "time: 3.49 ms (started: 2023-10-06 13:14:08 +00:00)\n"
     ]
    }
   ],
   "source": [
    "obj_fun = sum([df_foods.iloc[j]['unit_cost'] * food_decision_variables[j] for j in range(num_foods)])\n",
    "print('Objective function:' , obj_fun)\n",
    "model += obj_fun"
   ]
  },
  {
   "cell_type": "markdown",
   "metadata": {},
   "source": [
    "### LP Formulation for Diet Problem: Constraints\n",
    "\n",
    "Next we consider the constraints to be added. Note that for each nutrition, $N_k$ we have two important data items:\n",
    "  - $l_k, u_k$ the lower and upper limits for how much of the nutrient is needed.\n",
    "  - $A_{k,i}$ how much of nutrient $N_k$ does food $F_i$ have?\n",
    "  \n",
    "The constraints for the nutrient $N_k$ are : \n",
    "\n",
    "$$\\begin{array}{rl}\n",
    "A_{k,1} x_1 + A_{k,2} x_2 + \\cdots + A_{k,n} x_n & \\geq l_k \\\\ \n",
    "A_{k,1} x_1 + A_{k,2} x_2 + \\cdots + A_{k,n} x_n & \\leq u_k \\\\ \n",
    "\\end{array}$$\n",
    "\n",
    "They express that by eating $x_1$ amount of food $F_1$, $x_2$ of food $F_2$ and so on, a person gets total amount of nutritient $N_k$ within the desired limits. We add these constraints for each nutrient."
   ]
  },
  {
   "cell_type": "code",
   "execution_count": 9,
   "metadata": {
    "ExecuteTime": {
     "end_time": "2023-10-06T13:01:21.233659Z",
     "start_time": "2023-10-06T13:01:21.216147Z"
    }
   },
   "outputs": [
    {
     "name": "stdout",
     "output_type": "stream",
     "text": [
      "All nutrients: \n",
      "\t [('Calories', 2000, 2500), ('Calcium', 800, 1600), ('Iron', 10, 30), ('Vit_A', 5000, 50000), ('Dietary_Fiber', 25, 100), ('Carbohydrates', 0, 300), ('Protein', 50, 100)]\n",
      "Constraints for nutrient: Calories\n",
      "\t 277.4*x_1 + 358.2*x_2 + 25.8*x_3 + 81.4*x_4 + 15.1*x_5 + 78.1*x_6 + 121.2*x_7 + 115.1*x_8 + 242.1*x_9 <= 2500\n",
      "\t 277.4*x_1 + 358.2*x_2 + 25.8*x_3 + 81.4*x_4 + 15.1*x_5 + 78.1*x_6 + 121.2*x_7 + 115.1*x_8 + 242.1*x_9 >= 2000\n",
      "Constraints for nutrient: Calcium\n",
      "\t 21.9*x_1 + 80.2*x_2 + 6.2*x_3 + 9.7*x_4 + 3.4*x_5 + 6.2*x_6 + 296.7*x_7 + 12.9*x_8 + 23.5*x_9 <= 1600\n",
      "\t 21.9*x_1 + 80.2*x_2 + 6.2*x_3 + 9.7*x_4 + 3.4*x_5 + 6.2*x_6 + 296.7*x_7 + 12.9*x_8 + 23.5*x_9 >= 800\n",
      "Constraints for nutrient: Iron\n",
      "\t 1.8*x_1 + 2.3*x_2 + 0.6*x_3 + 0.2*x_4 + 0.1*x_5 + 0.4*x_6 + 0.1*x_7 + 16.8*x_8 + 2.3*x_9 <= 30\n",
      "\t 1.8*x_1 + 2.3*x_2 + 0.6*x_3 + 0.2*x_4 + 0.1*x_5 + 0.4*x_6 + 0.1*x_7 + 16.8*x_8 + 2.3*x_9 >= 10\n",
      "Constraints for nutrient: Vit_A\n",
      "\t 77.4*x_1 + 3055.2*x_2 + 766.3*x_3 + 73.1*x_4 + 24.0*x_5 + 101.8*x_6 + 500.2*x_7 + 1250.2*x_8 <= 50000\n",
      "\t 77.4*x_1 + 3055.2*x_2 + 766.3*x_3 + 73.1*x_4 + 24.0*x_5 + 101.8*x_6 + 500.2*x_7 + 1250.2*x_8 >= 5000\n",
      "Constraints for nutrient: Dietary_Fiber\n",
      "\t 11.6*x_2 + 1.4*x_3 + 3.7*x_4 + 0.2*x_5 + 4.0*x_8 <= 100\n",
      "\t 11.6*x_2 + 1.4*x_3 + 3.7*x_4 + 0.2*x_5 + 4.0*x_8 >= 25\n",
      "Constraints for nutrient: Carbohydrates\n",
      "\t 58.3*x_2 + 5.7*x_3 + 21.0*x_4 + 4.1*x_5 + 9.3*x_6 + 11.7*x_7 + 27.9*x_8 + 18.0*x_9 <= 300\n",
      "\t 58.3*x_2 + 5.7*x_3 + 21.0*x_4 + 4.1*x_5 + 9.3*x_6 + 11.7*x_7 + 27.9*x_8 + 18.0*x_9 >= 0\n",
      "Constraints for nutrient: Protein\n",
      "\t 42.2*x_1 + 8.2*x_2 + x_3 + 0.3*x_4 + 0.2*x_5 + 0.9*x_6 + 8.1*x_7 + 4.0*x_8 + 10.4*x_9 <= 100\n",
      "\t 42.2*x_1 + 8.2*x_2 + x_3 + 0.3*x_4 + 0.2*x_5 + 0.9*x_6 + 8.1*x_7 + 4.0*x_8 + 10.4*x_9 >= 50\n",
      "time: 11.7 ms (started: 2023-10-06 13:14:10 +00:00)\n"
     ]
    }
   ],
   "source": [
    "all_nutrients = [(row['name'], row['qmin'], row['qmax']) for _, row in df_nutrients.iterrows()]\n",
    "print('All nutrients: \\n\\t', all_nutrients)\n",
    "\n",
    "for (nk,l,u) in all_nutrients:\n",
    "    # Just restrict ourselves to nutrient `nk`\n",
    "    nut_terms = ( [ (row['Food'], row[nk]) for (_, row) in df_food_nutrients.iterrows() ])\n",
    "    nut_lhs_expr = sum( [c*food_name_to_dec_var[name] for (name, c) in nut_terms])\n",
    "    print(f'Constraints for nutrient: {nk}')\n",
    "    print(f'\\t {nut_lhs_expr} <= {u}')\n",
    "    model += nut_lhs_expr <= u\n",
    "    print(f'\\t {nut_lhs_expr} >= {l}')\n",
    "    model += nut_lhs_expr >= l"
   ]
  },
  {
   "cell_type": "code",
   "execution_count": 10,
   "metadata": {
    "ExecuteTime": {
     "end_time": "2023-10-06T13:01:21.272826Z",
     "start_time": "2023-10-06T13:01:21.236910Z"
    }
   },
   "outputs": [
    {
     "name": "stdout",
     "output_type": "stream",
     "text": [
      " Roasted Chicken --> 0.14891116 servings\n",
      " Spaghetti W/ Sauce --> 2.1551724 servings\n",
      " Tomato,Red,Ripe,Raw --> 0.0 servings\n",
      " Apple,Raw,W/Skin --> 0.0 servings\n",
      " Grapes --> 0.0 servings\n",
      " Chocolate Chip Cookies --> 12.331421 servings\n",
      " Lowfat Milk --> 1.8450934 servings\n",
      " Raisin Brn --> 0.0 servings\n",
      " Hotdog --> 0.0 servings\n",
      "Cost: $2.6004339584000005\n",
      "time: 96.2 ms (started: 2023-10-06 13:14:12 +00:00)\n"
     ]
    }
   ],
   "source": [
    "\n",
    "model.solve()\n",
    "\n",
    "# Each of the variables is printed with it's resolved optimum value\n",
    "for f in food_names:\n",
    "    v = food_name_to_dec_var[f]\n",
    "    print(f' {f} --> {v.varValue} servings')\n",
    "print(f'Cost: ${value(model.objective)}')"
   ]
  },
  {
   "cell_type": "markdown",
   "metadata": {},
   "source": [
    "## Network Flow Problem\n",
    "\n",
    "We will now show how to model a problem over graphs: the network flow problem as a linear program.  The network flow problem involves a directed graph $G$ where each edge $e_j$ of the graph has a weight $C_j \\geq 0$ that denotes the \"capacity\" of the edge. There are two specially designated nodes in the graph: the _source_ $s$ and the _sink_ $t$. \n",
    "Imagine the graph as a network of pipelines distributing water across a township, connecting the source to the sink where each edge is a pipeline with a capacity $C_j$. Our goal is to send as much water as possible through the pipes:\n",
    "  - The flow in each edge must be less than its capacity.\n",
    "  - The flow in each edge must be along the direction of the edge.\n",
    "  - For each node that is not the source or sink, the sum of flows along edges that are incoming to the node must equal the sum of all flows along outgoing edges. \n",
    "    - Note that this constraint does not apply to the source or sink nodes.\n",
    "\n",
    "The total flow through the network is therefore the total flow leaving the source $s$ or equivalently the total flow entering the sink.\n",
    "\n",
    "### Example \n",
    "\n",
    "Consider the network below with $8$ nodes and a source node $s$/sink node $t$. Along side each edge we have marked the capacity of the edge.\n",
    "\n",
    "<div>\n",
    "<img src=\"flow-network-1.png\" width=\"500\"/>\n",
    "</div>\n"
   ]
  },
  {
   "cell_type": "markdown",
   "metadata": {},
   "source": [
    "Here is an example of the flow through the network where the flow across each edge is shown \n",
    "in green. Edges without any flow have flow $0$.\n",
    "<div>\n",
    "<img src=\"flow-network-2.png\" width=\"500\"/>\n",
    "</div>\n",
    "The flow along each edge is in the direction of the edge. Note that for each node other than source/sink, the sum of flow along incoming edges equals that along outgoing edges. The total flow sent through the network equals $8$ which is the flow leaving the source edge or entering the sink.\n",
    "\n",
    "## Network flow as an LP\n",
    "\n",
    "We can use linear programming solvers to solve network flow problems over graphs. LPs can solve network flows efficiently although there are dedicated algorithms that are faster for solving network flow problems (eg., see Edmonds-Karp algorithm or Ford-Fulkerson algorithm).\n",
    "\n",
    "### Input/Output\n",
    "\n",
    "We are given a directed graph $G$ with \n",
    " - Set of vertices $V$,\n",
    " - Set of edges $E \\subseteq V \\times V$, \n",
    " - For each edge $e \\in E$, there we define a capacity $c(e) \\geq 0$.\n",
    " - We designate two special vertices $s, t \\in V$ as the source and sink. \n",
    "   - Assume no incoming edges into the source vertex and no outgoing edges from the sink vertex.\n",
    "   \n",
    "$\\newcommand\\incoming{\\mathsf{in}}$\n",
    "\n",
    "$\\newcommand\\outgoing{\\mathsf{out}}$\n",
    "\n",
    "For each vertex $v \\in V$, let $\\incoming(v)$ denote all the edges that are incoming into the vertex $v$.\n",
    "$$\\incoming(v) = \\{ e \\in E \\ |\\ e \\ \\text{is of the form}\\ (s, v)\\ \\text{for some vertex}\\ s \\in V \\}$$\n",
    "Similarly, define $\\outgoing(v)$ as the set of all edges outgoing from vertex $v$.\n",
    "\n",
    "The LP formulation is as follows:\n",
    "  - Decision Variables: For each edge $e \\in E$, add a decision variable $x_e$ denoting the flow through edge $e$.\n",
    "  - Objective function: We maximize the total flow over all outgoing edges of the source vertex (or alternatively total flow over incoming  edges of the target vertex).\n",
    "     $$\\max\\ \\sum_{e \\in \\outgoing(s)}\\ x_e$$\n",
    "  - Capacity Constraints: We have the following constraints for each edge $e \\in E$.\n",
    "  $$\\begin{array}{ll}\n",
    "  x_e \\geq 0 & \\text{Flow along edge e cannot be negative}\\\\ \n",
    "  x_e \\leq c(e) & \\text{Flow along edge e must be less than capacity of the edge} \\\\ \n",
    "  \\end{array}$$\n",
    "  - Balance Constraints: we have the following flow balance constraint for each vertex $v \\in V \\setminus \\{s, t\\}$:\n",
    "  $$\\begin{array}{ll}\n",
    " \\sum_{e\\in \\incoming(v)} x_e = \\sum_{e\\in \\outgoing(v)} x_e \n",
    "  \\end{array}$$\n",
    "  \n",
    "Let's try and program a maximum flow solver using linear programming.  "
   ]
  },
  {
   "cell_type": "code",
   "execution_count": 3,
   "metadata": {
    "ExecuteTime": {
     "end_time": "2023-10-06T13:01:22.174328Z",
     "start_time": "2023-10-06T13:01:21.281460Z"
    }
   },
   "outputs": [],
   "source": [
    "from pulp import *\n",
    "import networkx as nx\n",
    "from matplotlib import pyplot as plt\n",
    "\n",
    "class WeightedDirectedGraph:\n",
    "    def __init__(self, num_vertices, source_vertex_id, sink_vertex_id):\n",
    "        self.__n = num_vertices\n",
    "        self.__src = source_vertex_id\n",
    "        self.__sink = sink_vertex_id\n",
    "        self.__incoming = {}\n",
    "        self.__outgoing = {}\n",
    "        self.__edges = []\n",
    "        self.__flow_lp_vars = []\n",
    "        self.__lp_model = LpProblem('Flow Problem', LpMaximize)\n",
    "\n",
    "\n",
    "    def add_edge(self, u, v, cap):\n",
    "        assert cap > 0.0, 'capacity must be positive'\n",
    "        assert u != self.__sink, 'Adding an edge leaving sink - not allowed'\n",
    "        assert v != self.__src, 'Adding an edge entering source - not allowed'\n",
    "        # Assign a edge id to the edge we are going to add\n",
    "        edge_id = len(self.__edges)\n",
    "        # Append the source/dest/capacity\n",
    "        self.__edges.append( (u,v,cap))\n",
    "        # Create a new LP variable\n",
    "        lp_var = LpVariable(f'x_{edge_id}', 0.0, cap) # Create a decision variable with bounds between 0.0 and capacity of edge.\n",
    "        # Append it to the list of decision variables\n",
    "        self.__flow_lp_vars.append(lp_var)\n",
    "        # Add the edge as incoming to vertex v\n",
    "        if v in self.__incoming:\n",
    "            self.__incoming[v].append(edge_id)\n",
    "        else:\n",
    "            lst = [edge_id]\n",
    "            self.__incoming[v] = lst\n",
    "        # add the edge as outgoing to vertex u\n",
    "        if u in self.__outgoing:\n",
    "            self.__outgoing[u].append(edge_id)\n",
    "        else:\n",
    "            lst=[edge_id]\n",
    "            self.__outgoing[u] = lst\n",
    "\n",
    "    # This is a useful routine that uses the networkx library to\n",
    "    # draw the graph. We provide the option to draw the graph with just edge capacities\n",
    "    # or to draw the graph showing the flow through each edge.\n",
    "    def visualize_graph(self, viz_flow = False): # set viz_flow to True only if you calculated the flow.\n",
    "        G = nx.DiGraph()\n",
    "        G.add_nodes_from(range(self.__n))\n",
    "        color_map = ['red' if j == self.__src else ('green' if j == self.__sink else 'blue') for j in range(self.__n)]\n",
    "        G.add_weighted_edges_from(self.__edges)\n",
    "        pos=nx.circular_layout(G)\n",
    "        plt.figure(figsize=(10,5))\n",
    "        ax = plt.gca()\n",
    "        title = 'Graph with Edge Capacities' if not viz_flow else 'Graph with Network Flow Solution'\n",
    "        ax.set_title(f'Graph with {title}')\n",
    "        nx.draw(G, pos=pos, node_color=color_map, with_labels=True)\n",
    "        if viz_flow:\n",
    "            for edge_id in range(len(self.__edges)):\n",
    "                (u,v,_) = self.__edges[edge_id]\n",
    "                flow = self.__flow_lp_vars[edge_id].varValue\n",
    "                G.edges[u,v]['flow'] = flow\n",
    "            labels = nx.get_edge_attributes(G,'flow')\n",
    "            nx.draw_networkx_edge_labels(G,pos, edge_labels=labels)\n",
    "\n",
    "        else:\n",
    "            labels = nx.get_edge_attributes(G,'weight')\n",
    "            nx.draw_networkx_edge_labels(G,pos, edge_labels=labels)\n",
    "\n",
    "\n",
    "    def solve_flow_problem(self):\n",
    "        # Objective is simply sum of all outgoing variables at source\n",
    "        # Add the objective to the problem\n",
    "        s = self.__src\n",
    "        if s not in self.__outgoing:\n",
    "            print('Warning: no outgoing edges at source. Max flow is trivially 0 -- bailing out.')\n",
    "        else:\n",
    "            lst_of_edge_ids = self.__outgoing[s]\n",
    "            ob_expr = sum([self.__flow_lp_vars[edge] for edge in lst_of_edge_ids])\n",
    "            self.__lp_model += ob_expr\n",
    "        # Add flow balance constraints\n",
    "        for i in range(self.__n):\n",
    "            if i != self.__src and i!= self.__sink:\n",
    "                incoming_lst = self.__incoming[i] if i in self.__incoming else []\n",
    "                outgoing_lst = self.__outgoing[i] if i in self.__outgoing else []\n",
    "                total_incoming_flow = sum([self.__flow_lp_vars[edge] for edge in incoming_lst])\n",
    "                total_outgoing_flow = sum([self.__flow_lp_vars[edge] for edge in outgoing_lst])\n",
    "                self.__lp_model += total_incoming_flow == total_outgoing_flow\n",
    "        # Solve the LP\n",
    "        self.__lp_model.solve()\n",
    "        # Print the solution\n",
    "        m = len(self.__edges)\n",
    "        for i in range(m):\n",
    "            v = self.__flow_lp_vars[i]\n",
    "            (x, y, _) = self.__edges[i]\n",
    "            print(f'Edge: {x} -> {y} : flow is {v.varValue}')\n",
    "        print(f'Total flow is {value(self.__lp_model.objective)}')"
   ]
  },
  {
   "cell_type": "code",
   "execution_count": 5,
   "metadata": {
    "ExecuteTime": {
     "end_time": "2023-10-06T13:01:22.577602Z",
     "start_time": "2023-10-06T13:01:22.177230Z"
    }
   },
   "outputs": [
    {
     "name": "stderr",
     "output_type": "stream",
     "text": [
      "c:\\Python312\\Lib\\site-packages\\pulp\\pulp.py:1298: UserWarning: Spaces are not permitted in the name. Converted to '_'\n",
      "  warnings.warn(\"Spaces are not permitted in the name. Converted to '_'\")\n"
     ]
    },
    {
     "data": {
      "image/png": "[encoded data removed]",
      "text/plain": [
       "<Figure size 1000x500 with 1 Axes>"
      ]
     },
     "metadata": {},
     "output_type": "display_data"
    }
   ],
   "source": [
    "G = WeightedDirectedGraph(10, 0, 9)\n",
    "G.add_edge(0, 1, 3)\n",
    "G.add_edge(0, 2, 4)\n",
    "G.add_edge(0, 3, 1)\n",
    "G.add_edge(1, 3, 1)\n",
    "G.add_edge(1, 4, 4)\n",
    "G.add_edge(2, 1, 3)\n",
    "G.add_edge(2, 4, 2)\n",
    "G.add_edge(2, 5, 2)\n",
    "G.add_edge(2, 6, 2)\n",
    "G.add_edge(3, 4, 2)\n",
    "G.add_edge(4, 7, 4)\n",
    "G.add_edge(5, 6, 2)\n",
    "G.add_edge(6, 4, 2)\n",
    "G.add_edge(6, 8, 4)\n",
    "G.add_edge(7, 8, 3)\n",
    "G.add_edge(7, 9, 3)\n",
    "G.add_edge(8, 9, 5)\n",
    "G.visualize_graph()"
   ]
  },
  {
   "cell_type": "code",
   "execution_count": 6,
   "metadata": {
    "ExecuteTime": {
     "end_time": "2023-10-06T13:01:22.944099Z",
     "start_time": "2023-10-06T13:01:22.580151Z"
    }
   },
   "outputs": [
    {
     "name": "stdout",
     "output_type": "stream",
     "text": [
      "Edge: 0 -> 1 : flow is 3.0\n",
      "Edge: 0 -> 2 : flow is 4.0\n",
      "Edge: 0 -> 3 : flow is 1.0\n",
      "Edge: 1 -> 3 : flow is 0.0\n",
      "Edge: 1 -> 4 : flow is 3.0\n",
      "Edge: 2 -> 1 : flow is 0.0\n",
      "Edge: 2 -> 4 : flow is 0.0\n",
      "Edge: 2 -> 5 : flow is 2.0\n",
      "Edge: 2 -> 6 : flow is 2.0\n",
      "Edge: 3 -> 4 : flow is 1.0\n",
      "Edge: 4 -> 7 : flow is 4.0\n",
      "Edge: 5 -> 6 : flow is 2.0\n",
      "Edge: 6 -> 4 : flow is 0.0\n",
      "Edge: 6 -> 8 : flow is 4.0\n",
      "Edge: 7 -> 8 : flow is 1.0\n",
      "Edge: 7 -> 9 : flow is 3.0\n",
      "Edge: 8 -> 9 : flow is 5.0\n",
      "Total flow is 8.0\n"
     ]
    },
    {
     "data": {
      "image/png": "[encoded data removed]",
      "text/plain": [
       "<Figure size 1000x500 with 1 Axes>"
      ]
     },
     "metadata": {},
     "output_type": "display_data"
    }
   ],
   "source": [
    "G.solve_flow_problem()\n",
    "G.visualize_graph(True)"
   ]
  },
  {
   "cell_type": "markdown",
   "metadata": {},
   "source": [
    "## That's All Folks"
   ]
  }
 ],
 "metadata": {
  "celltoolbar": "Attachments",
  "kernelspec": {
   "display_name": "Python 3",
   "language": "python",
   "name": "python3"
  },
  "language_info": {
   "codemirror_mode": {
    "name": "ipython",
    "version": 3
   },
   "file_extension": ".py",
   "mimetype": "text/x-python",
   "name": "python",
   "nbconvert_exporter": "python",
   "pygments_lexer": "ipython3",
   "version": "3.12.0"
  }
 },
 "nbformat": 4,
 "nbformat_minor": 5
}
