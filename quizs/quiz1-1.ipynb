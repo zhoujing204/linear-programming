{
 "cells": [
  {
   "cell_type": "markdown",
   "metadata": {},
   "source": [
    "## 2"
   ]
  },
  {
   "cell_type": "markdown",
   "metadata": {},
   "source": [
    "Consider the following scenario. \n",
    "\n",
    "Green Energy Solutions is a company specializing in solar panel installations. They have a limited workforce and want to maximize their profit while adhering to certain constraints. The company has two types of solar panel installations: Type A and Type B.\n",
    "\n",
    "Each Type A installation:\n",
    "\n",
    "- Requires 12 hours of labor\n",
    "\n",
    "- Costs $500 in materials\n",
    "\n",
    "- Generates $800 profit per installation. \n",
    "\n",
    "Each Type B installation:\n",
    "\n",
    "- Requires 8 hours of labor\n",
    "\n",
    "- Costs $300 in materials\n",
    "\n",
    "- Generates $600 profit per installation.  \n",
    "\n",
    "The company has a total of \n",
    "\n",
    "- 1000 labor hours available.\n",
    "\n",
    "- The company has $400,000 in cash at hand.\n",
    "\n",
    "Due to supply constraints, the company can only install a maximum of 300 Type A panels. \n",
    "\n",
    "Formulate a linear program to maximize the profits while adhering to the constraints above. Let decision variable A denote the number of type A installation and decision variable B denote the number of type B installations.\n",
    "\n",
    "Choose the correct answers from the choices given below."
   ]
  },
  {
   "cell_type": "code",
   "execution_count": null,
   "metadata": {},
   "outputs": [],
   "source": [
    "from pulp import *\n",
    "\n",
    "model = LpProblem(\"GreenEnergy\", LpMaximize)\n",
    "x = LpVariable(\"A\", 0, 300)\n",
    "y = LpVariable(\"B\", 0)\n",
    "\n",
    "# objective function\n",
    "model += 800*x + 600*y\n",
    "\n",
    "# constraints\n",
    "model += 12*x + 8*y <= 1000\n",
    "model += 500*x + 300*y <= 400_000"
   ]
  },
  {
   "cell_type": "markdown",
   "metadata": {},
   "source": []
  },
  {
   "cell_type": "code",
   "execution_count": 2,
   "metadata": {},
   "outputs": [
    {
     "name": "stdout",
     "output_type": "stream",
     "text": [
      "1\n",
      "7.0\n",
      "4.0\n",
      "15.0\n"
     ]
    }
   ],
   "source": [
    "from pulp import *\n",
    "mdl = LpProblem('my_problem', LpMaximize)\n",
    "x = LpVariable('x', lowBound = 0)\n",
    "y = LpVariable('y', lowBound = 0, upBound = 4)\n",
    "mdl += (x + 2 * y)\n",
    "mdl += x <= y + 3\n",
    "mdl += x >= y - 1\n",
    "mdl += x - 2 * y <= 5\n",
    "status= mdl.solve()\n",
    "print(status)\n",
    "print(x.value())\n",
    "print(y.value())\n",
    "print(mdl.objective.value())"
   ]
  },
  {
   "cell_type": "code",
   "execution_count": 1,
   "metadata": {},
   "outputs": [
    {
     "name": "stdout",
     "output_type": "stream",
     "text": [
      "None\n",
      "1\n",
      "7.0\n",
      "4.0\n",
      "15.0\n"
     ]
    }
   ],
   "source": [
    "from pulp import *\n",
    "mdl = LpProblem('my_problem', LpMaximize)\n",
    "x = LpVariable('x', lowBound = 0)\n",
    "y = LpVariable('y', lowBound = 0, upBound = 4)\n",
    "mdl += (x + 2 * y)\n",
    "mdl += x <= y + 3\n",
    "mdl += x >= y - 1\n",
    "mdl += x - 2 * y <= 5\n",
    "\n",
    "print(y.value())\n",
    "\n",
    "status= mdl.solve()\n",
    "assert status == LpStatusOptimal\n",
    "print(status)\n",
    "print(x.value())\n",
    "print(y.value())\n",
    "print(mdl.objective.value())"
   ]
  },
  {
   "cell_type": "code",
   "execution_count": 1,
   "metadata": {},
   "outputs": [
    {
     "data": {
      "text/plain": [
       "n_problem:\n",
       "MAXIMIZE\n",
       "1*x0 + 1*x1 + 1*x10 + 1*x11 + 1*x12 + 1*x13 + 1*x14 + 1*x2 + 1*x3 + 1*x4 + 1*x5 + 1*x6 + 1*x7 + 1*x8 + 1*x9 + 0\n",
       "SUBJECT TO\n",
       "_C1: x0 - x1 <= 0\n",
       "\n",
       "_C2: x0 - x1 >= 0\n",
       "\n",
       "_C3: x1 - x2 <= 1\n",
       "\n",
       "_C4: x1 - x2 >= -1\n",
       "\n",
       "_C5: x2 - x3 <= 2\n",
       "\n",
       "_C6: x2 - x3 >= -2\n",
       "\n",
       "_C7: x3 - x4 <= 3\n",
       "\n",
       "_C8: x3 - x4 >= -3\n",
       "\n",
       "_C9: x4 - x5 <= 4\n",
       "\n",
       "_C10: x4 - x5 >= -4\n",
       "\n",
       "_C11: x5 - x6 <= 5\n",
       "\n",
       "_C12: x5 - x6 >= -5\n",
       "\n",
       "_C13: x6 - x7 <= 6\n",
       "\n",
       "_C14: x6 - x7 >= -6\n",
       "\n",
       "_C15: x7 - x8 <= 7\n",
       "\n",
       "_C16: x7 - x8 >= -7\n",
       "\n",
       "_C17: x8 - x9 <= 8\n",
       "\n",
       "_C18: x8 - x9 >= -8\n",
       "\n",
       "_C19: - x10 + x9 <= 9\n",
       "\n",
       "_C20: - x10 + x9 >= -9\n",
       "\n",
       "_C21: x10 - x11 <= 10\n",
       "\n",
       "_C22: x10 - x11 >= -10\n",
       "\n",
       "_C23: x11 - x12 <= 11\n",
       "\n",
       "_C24: x11 - x12 >= -11\n",
       "\n",
       "_C25: x12 - x13 <= 12\n",
       "\n",
       "_C26: x12 - x13 >= -12\n",
       "\n",
       "_C27: x13 - x14 <= 13\n",
       "\n",
       "_C28: x13 - x14 >= -13\n",
       "\n",
       "VARIABLES\n",
       "x0 Continuous\n",
       "x1 Continuous\n",
       "x10 Continuous\n",
       "x11 Continuous\n",
       "x12 Continuous\n",
       "x13 Continuous\n",
       "x14 Continuous\n",
       "x2 Continuous\n",
       "x3 Continuous\n",
       "x4 Continuous\n",
       "x5 Continuous\n",
       "x6 Continuous\n",
       "x7 Continuous\n",
       "x8 Continuous\n",
       "x9 Continuous"
      ]
     },
     "execution_count": 1,
     "metadata": {},
     "output_type": "execute_result"
    }
   ],
   "source": [
    "from pulp import *\n",
    "mdl = LpProblem('n_problem', LpMaximize)\n",
    "n = 15\n",
    "vars = [ LpVariable(f'x{i}', lowBound = 0.0) for i in range(n)]\n",
    "mdl += lpSum(vars)\n",
    "for i in range(14):\n",
    "    mdl += vars[i] - vars[i+1] <= i\n",
    "    mdl += vars[i] - vars[i+1] >= -i\n",
    "\n",
    "mdl"
   ]
  },
  {
   "cell_type": "code",
   "execution_count": null,
   "metadata": {},
   "outputs": [],
   "source": [
    "status = mdl.solve()\n",
    "if status == LpStatusOptimal:\n",
    "    print('Optimal solution found!')\n",
    "    print([vi.value() for vi in vars])\n",
    "    print(mdl.objective.value())\n",
    "elif status == LpStatusInfeasible:\n",
    "    print('Infeasible problem')\n",
    "elif status == LpStatusUnbounded:\n",
    "    print('Unbounded problem')\n",
    "else:\n",
    "    print('Unknown status')"
   ]
  }
 ],
 "metadata": {
  "kernelspec": {
   "display_name": "Python 3",
   "language": "python",
   "name": "python3"
  },
  "language_info": {
   "codemirror_mode": {
    "name": "ipython",
    "version": 3
   },
   "file_extension": ".py",
   "mimetype": "text/x-python",
   "name": "python",
   "nbconvert_exporter": "python",
   "pygments_lexer": "ipython3",
   "version": "3.12.0"
  }
 },
 "nbformat": 4,
 "nbformat_minor": 2
}
