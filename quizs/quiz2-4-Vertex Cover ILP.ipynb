{
 "cells": [
  {
   "cell_type": "markdown",
   "metadata": {},
   "source": [
    "## Vertex Cover ILP"
   ]
  },
  {
   "cell_type": "markdown",
   "metadata": {},
   "source": [
    "## quiz2"
   ]
  },
  {
   "cell_type": "markdown",
   "metadata": {},
   "source": [
    "Calculate the optimal vertex cover for the graph below. Feel free to use the code/notes provided as part of the ungraded lab. Hopefully you have a python setup either on your computer with the pulp library installed or you are using google colab as indicated in the previous quiz on solving ILPs."
   ]
  },
  {
   "cell_type": "markdown",
   "metadata": {},
   "source": [
    "![Vertex Cover Quiz](./img/2024-09-19-09-30-51.png)"
   ]
  },
  {
   "cell_type": "code",
   "execution_count": 1,
   "metadata": {},
   "outputs": [],
   "source": [
    "from pulp import *\n",
    "\n",
    "\n",
    "def compute_optimal_vertex_cover(n, edge_list):\n",
    "    # Create a problem -- indicate that we will minimize the objectives\n",
    "    prob = LpProblem('vert_cover', LpMinimize)\n",
    "    # Add all the decision vars (we do this using comprehensions in Python but you could write a for-loop as well)\n",
    "    dvars = [LpVariable(f'w_{i}', cat='Binary') for i in range(1, n+1)]\n",
    "    # Note that lpSum is defined in Pulp and it simply takes the sum of all variables in a list of vars.\n",
    "    prob += lpSum(dvars) # minimize the sum of the variables\n",
    "    for (i, j) in edge_list: # go through each edge in the list\n",
    "        assert 1 <= i <= n\n",
    "        assert 1 <= j <= n\n",
    "        prob += dvars[i-1] + dvars[j-1] >= 1 # add the constraint -- wi + wj >= 1 -- indexing in python starts from 0 and thus we require the -1\n",
    "    stat = prob.solve(PULP_CBC_CMD(msg=False)) # solve the problem but suppress output\n",
    "    assert stat == LpStatusOptimal, 'Problem does not have optimal status -- something went wrong -- this should not happen for this problem'\n",
    "    vert_cover = [i+1 for i in range(n) if dvars[i].varValue > 0 ]\n",
    "    print(f\"vert_cover: {vert_cover}\")\n",
    "    return len(vert_cover)"
   ]
  },
  {
   "cell_type": "code",
   "execution_count": 5,
   "metadata": {},
   "outputs": [],
   "source": [
    "def compute_lp_relaxation_vertex_cover(n, edge_list):\n",
    "    # Create a problem -- indicate that we will minimize the objectives\n",
    "    prob = LpProblem('vert_cover', LpMinimize)\n",
    "    # Add all the decision vars (we do this using comprehensions in Python but you could write a for-loop as well)\n",
    "    dvars = [LpVariable(f'z_{i}', lowBound=0.0, upBound=1.0, cat='Continuous') for i in range(1, n+1)]\n",
    "    # Note that lpSum is defined in Pulp and it simply takes the sum of all variables in a list of vars.\n",
    "    prob += lpSum(dvars) # minimize the sum of the variables\n",
    "    for (i, j) in edge_list: # go through each edge in the list\n",
    "        assert 1 <= i <= n\n",
    "        assert 1 <= j <= n\n",
    "        prob += dvars[i-1] + dvars[j-1] >= 1 # add the constraint -- wi + wj >= 1 -- indexing in python starts from 0 and thus we require the -1\n",
    "    stat = prob.solve(PULP_CBC_CMD(msg=False)) # solve the problem but suppress the output\n",
    "    assert stat == LpStatusOptimal, 'Problem does not have optimal status -- something went wrong -- this should not happen for this problem'\n",
    "    vert_cover = [x.varValue for x in dvars]\n",
    "    print(f\"vert_cover: {vert_cover}\")\n",
    "    return sum(vert_cover)"
   ]
  },
  {
   "cell_type": "code",
   "execution_count": 14,
   "metadata": {},
   "outputs": [
    {
     "data": {
      "text/plain": [
       "1.0"
      ]
     },
     "execution_count": 14,
     "metadata": {},
     "output_type": "execute_result"
    }
   ],
   "source": [
    "def round_up_half(num, ndigits=0):\n",
    "    \"\"\"\n",
    "    Rounds a number to the specified number of decimal places,\n",
    "    ensuring that 0.5 is rounded up.\n",
    "    \"\"\"\n",
    "    return math.ceil(num * 10 ** ndigits) / 10 ** ndigits\n",
    "\n",
    "round_up_half(0.5)"
   ]
  },
  {
   "cell_type": "code",
   "execution_count": 12,
   "metadata": {},
   "outputs": [],
   "source": [
    "def compute_lp_rounded_vertex_cover(n, edge_list):\n",
    "    # Create a problem -- indicate that we will minimize the objectives\n",
    "    prob = LpProblem('vert_cover', LpMinimize)\n",
    "    # Add all the decision vars (we do this using comprehensions in Python but you could write a for-loop as well)\n",
    "    dvars = [LpVariable(f'z_{i}', lowBound=0.0, upBound=1.0, cat='Continuous') for i in range(1, n+1)]\n",
    "    # Note that lpSum is defined in Pulp and it simply takes the sum of all variables in a list of vars.\n",
    "    prob += lpSum(dvars) # minimize the sum of the variables\n",
    "    for (i, j) in edge_list: # go through each edge in the list\n",
    "        assert 1 <= i <= n\n",
    "        assert 1 <= j <= n\n",
    "        prob += dvars[i-1] + dvars[j-1] >= 1 # add the constraint -- wi + wj >= 1 -- indexing in python starts from 0 and thus we require the -1\n",
    "    stat = prob.solve(PULP_CBC_CMD(msg=False)) # solve the problem but suppress the output\n",
    "    assert stat == LpStatusOptimal, 'Problem does not have optimal status -- something went wrong -- this should not happen for this problem'\n",
    "    vert_cover = [round_up_half(x.varValue) for x in dvars]\n",
    "    print(f\"vert_cover: {vert_cover}\")\n",
    "    return sum(vert_cover)"
   ]
  },
  {
   "cell_type": "code",
   "execution_count": 15,
   "metadata": {},
   "outputs": [
    {
     "name": "stdout",
     "output_type": "stream",
     "text": [
      "vert_cover: [2, 3, 4, 6, 7]\n"
     ]
    },
    {
     "data": {
      "text/plain": [
       "5"
      ]
     },
     "execution_count": 15,
     "metadata": {},
     "output_type": "execute_result"
    }
   ],
   "source": [
    "n = 7\n",
    "edges =[(1,2),(1,3),(1,4),\n",
    "            (2,3),(2,6),\n",
    "            (3,4),(3,5),(3,6),\n",
    "            (4,5),(4,7),\n",
    "            (5,6),(5,7),\n",
    "            (6,7),]\n",
    "compute_optimal_vertex_cover(n, edges)"
   ]
  },
  {
   "cell_type": "code",
   "execution_count": 16,
   "metadata": {},
   "outputs": [
    {
     "name": "stdout",
     "output_type": "stream",
     "text": [
      "vert_cover: [0.5, 0.5, 0.5, 0.5, 0.5, 0.5, 0.5]\n"
     ]
    },
    {
     "data": {
      "text/plain": [
       "3.5"
      ]
     },
     "execution_count": 16,
     "metadata": {},
     "output_type": "execute_result"
    }
   ],
   "source": [
    "compute_lp_relaxation_vertex_cover(n, edges)"
   ]
  },
  {
   "cell_type": "code",
   "execution_count": 17,
   "metadata": {},
   "outputs": [
    {
     "name": "stdout",
     "output_type": "stream",
     "text": [
      "vert_cover: [1.0, 1.0, 1.0, 1.0, 1.0, 1.0, 1.0]\n"
     ]
    },
    {
     "data": {
      "text/plain": [
       "7.0"
      ]
     },
     "execution_count": 17,
     "metadata": {},
     "output_type": "execute_result"
    }
   ],
   "source": [
    "compute_lp_rounded_vertex_cover(n, edges)"
   ]
  }
 ],
 "metadata": {
  "kernelspec": {
   "display_name": "Python 3",
   "language": "python",
   "name": "python3"
  },
  "language_info": {
   "codemirror_mode": {
    "name": "ipython",
    "version": 3
   },
   "file_extension": ".py",
   "mimetype": "text/x-python",
   "name": "python",
   "nbconvert_exporter": "python",
   "pygments_lexer": "ipython3",
   "version": "3.12.0"
  }
 },
 "nbformat": 4,
 "nbformat_minor": 2
}
