{
 "cells": [
  {
   "cell_type": "markdown",
   "metadata": {},
   "source": [
    "# Formulating/Solving ILPs"
   ]
  },
  {
   "cell_type": "markdown",
   "metadata": {},
   "source": [
    "## Quiz1,2,3"
   ]
  },
  {
   "cell_type": "markdown",
   "metadata": {},
   "source": [
    "Please use a python interpreter to setup and solve the following integer linear programming problem using pulp.\n",
    "\n",
    "$$\n",
    "\\max 2x_1 -3x_2 + x_3 \\\\\n",
    "x_1 - x_2 + x_3 <=5 \\\\\n",
    "x_1 - x_2 + 4x_3 <= 7 \\\\\n",
    "x_1 + 2x_2 - x_3 + x_4 <=14 \\\\\n",
    "x_3 - x_4 + x_5 <= 7 \\\\\n",
    "x_1,x_2,x_3,x_4,x_5 \\in [-15, 15] \\\\\n",
    "x_1,x_2,x_3,x_4,x_5 \\in \\mathcal{Z} \\\\\n",
    "$$"
   ]
  },
  {
   "cell_type": "code",
   "execution_count": 5,
   "metadata": {},
   "outputs": [
    {
     "name": "stdout",
     "output_type": "stream",
     "text": [
      "1\n",
      "Decision vars: 5.0 -15.0 -15.0 -15.0 -15.0\n",
      "Objective: 40.0\n"
     ]
    }
   ],
   "source": [
    "from pulp import *\n",
    "\n",
    "# create the problem\n",
    "prob = LpProblem(\"quiz1\", LpMaximize)\n",
    "\n",
    "# add decision variables\n",
    "# dvars = [ LpVariable(f\"x{i}\", lowBound=-15, upBound=15,cat='Integer')\n",
    "#          for i in range(1,6) ]\n",
    "\n",
    "x1 = LpVariable(\"x1\", lowBound=-15, upBound=15,cat='Integer')\n",
    "x2 = LpVariable(\"x2\", lowBound=-15, upBound=15,cat='Integer')\n",
    "x3 = LpVariable(\"x3\", lowBound=-15, upBound=15,cat='Integer')\n",
    "x4 = LpVariable(\"x4\", lowBound=-15, upBound=15,cat='Integer')\n",
    "x5 = LpVariable(\"x5\", lowBound=-15, upBound=15,cat='Integer')\n",
    "\n",
    "# set the objective: 2x1 - 3x2 + x3\n",
    "prob += lpSum([2*x1 - 3*x2 + x3])\n",
    "\n",
    "# add constraints\n",
    "prob += x1-x2+x3<=5\n",
    "prob += x1-x2+4*x3<=7\n",
    "prob += x1+2*x2-x3+x4<=14\n",
    "prob += x3-x4+x5<=7\n",
    "\n",
    "# solve the problem\n",
    "status = prob.solve()\n",
    "\n",
    "print(status)\n",
    "print(\"Decision vars:\", x1.varValue, x2.varValue, x3.varValue, x4.varValue, x5.varValue)\n",
    "print(\"Objective:\", 2*x1.varValue - 3*x2.varValue +x3.varValue)"
   ]
  },
  {
   "cell_type": "code",
   "execution_count": 6,
   "metadata": {},
   "outputs": [
    {
     "name": "stdout",
     "output_type": "stream",
     "text": [
      "1\n",
      "Decision vars: 5.0 -15.0 -15.0 -15.0 -15.0\n",
      "Objective: 40.0\n"
     ]
    }
   ],
   "source": [
    "from pulp import *\n",
    "\n",
    "# create the problem\n",
    "prob = LpProblem(\"quiz1\", LpMaximize)\n",
    "\n",
    "# add decision variables\n",
    "# dvars = [ LpVariable(f\"x{i}\", lowBound=-15, upBound=15,cat='Integer')\n",
    "#          for i in range(1,6) ]\n",
    "\n",
    "x2 = LpVariable(\"x2\", lowBound=-15, upBound=15,cat='continue')\n",
    "x3 = LpVariable(\"x3\", lowBound=-15, upBound=15,cat='continue')\n",
    "x4 = LpVariable(\"x4\", lowBound=-15, upBound=15,cat='continue')\n",
    "x1 = LpVariable(\"x1\", lowBound=-15, upBound=15,cat='continue')\n",
    "x5 = LpVariable(\"x5\", lowBound=-15, upBound=15,cat='continue')\n",
    "\n",
    "# set the objective: 2x1 - 3x2 + x3\n",
    "prob += lpSum([2*x1 - 3*x2 + x3])\n",
    "\n",
    "# add constraints\n",
    "prob += x1-x2+x3<=5\n",
    "prob += x1-x2+4*x3<=7\n",
    "prob += x1+2*x2-x3+x4<=14\n",
    "prob += x3-x4+x5<=7\n",
    "\n",
    "# solve the problem\n",
    "status = prob.solve()\n",
    "\n",
    "print(status)\n",
    "print(\"Decision vars:\", x1.varValue, x2.varValue, x3.varValue, x4.varValue, x5.varValue)\n",
    "print(\"Objective:\", 2*x1.varValue - 3*x2.varValue +x3.varValue)"
   ]
  },
  {
   "cell_type": "markdown",
   "metadata": {},
   "source": [
    "### quiz 4,5"
   ]
  },
  {
   "cell_type": "markdown",
   "metadata": {},
   "source": [
    "$$\n",
    "\\min 2x_1 -3x_2 + x_3 \\\\\n",
    "x_1 - x_2 >= 0.5 \\\\\n",
    "x_1 - x_2 >= 0.75 \\\\\n",
    "x_2 - x_3 <= 1.25 \\\\\n",
    "x_2 - x_3 >= 0.95 \\\\\n",
    "x_1,x_2,x_3 \\in [-1, 1] \\\\\n",
    "x_1,x_2,x_3 \\in \\mathcal{Z} \\\\\n",
    "$$"
   ]
  },
  {
   "cell_type": "code",
   "execution_count": 11,
   "metadata": {},
   "outputs": [
    {
     "name": "stdout",
     "output_type": "stream",
     "text": [
      "infeasible LP\n"
     ]
    }
   ],
   "source": [
    "# ILP\n",
    "\n",
    "from pulp import *\n",
    "\n",
    "# create the problem\n",
    "prob = LpProblem(\"quiz1\", LpMinimize)\n",
    "\n",
    "x1 = LpVariable(\"x1\", lowBound=-1, upBound=1,cat='Integer')\n",
    "x2 = LpVariable(\"x2\", lowBound=-1, upBound=1,cat='Integer')\n",
    "x3 = LpVariable(\"x3\", lowBound=-1, upBound=1,cat='Integer')\n",
    "\n",
    "# set the objective: 2x1 - 3x2 + x3\n",
    "prob += lpSum([2*x1 - 3*x2 + x3])\n",
    "\n",
    "# add constraints\n",
    "prob += x1-x2>=0.5\n",
    "prob += x1-x2<=0.75\n",
    "prob += x2-x3<=1.25\n",
    "prob += x2-x3>=0.95\n",
    "\n",
    "# solve the problem\n",
    "status = prob.solve()\n",
    "\n",
    "if status == constants.LpStatusInfeasible:\n",
    "    print('infeasible LP')\n",
    "elif status != constants.LpStatusOptimal:\n",
    "    print('Unbounded or undefined LP Status -- there is some mistake in the problem formulation since it cannot happen in theory')\n",
    "else:\n",
    "    assert status == constants.LpStatusOptimal\n",
    "    print(\"LP has optimal solution.\")\n",
    "    print(\"Decision vars:\", x1.varValue, x2.varValue, x3.varValue)\n",
    "    print(\"Objective:\", 2*x1.varValue - 3*x2.varValue +x3.varValue)"
   ]
  },
  {
   "cell_type": "code",
   "execution_count": 9,
   "metadata": {},
   "outputs": [
    {
     "name": "stdout",
     "output_type": "stream",
     "text": [
      "LP has optimal solution.\n",
      "Decision vars: 1.0 0.5 -0.75\n",
      "Objective: -0.25\n"
     ]
    }
   ],
   "source": [
    "# LP Relaxation\n",
    "\n",
    "from pulp import *\n",
    "\n",
    "# create the problem\n",
    "prob = LpProblem(\"quiz1\", LpMinimize)\n",
    "\n",
    "x1 = LpVariable(\"x1\", lowBound=-1, upBound=1,cat='continue')\n",
    "x2 = LpVariable(\"x2\", lowBound=-1, upBound=1,cat='continue')\n",
    "x3 = LpVariable(\"x3\", lowBound=-1, upBound=1,cat='continue')\n",
    "\n",
    "# set the objective: 2x1 - 3x2 + x3\n",
    "prob += lpSum([2*x1 - 3*x2 + x3])\n",
    "\n",
    "# add constraints\n",
    "prob += x1-x2>=0.5\n",
    "prob += x1-x2<=0.75\n",
    "prob += x2-x3<=1.25\n",
    "prob += x2-x3>=0.95\n",
    "\n",
    "# solve the problem\n",
    "status = prob.solve()\n",
    "\n",
    "if status == constants.LpStatusInfeasible:\n",
    "    print('infeasible LP')\n",
    "elif status != constants.LpStatusOptimal:\n",
    "    print('Unbounded or undefined LP Status -- there is some mistake in the problem formulation since it cannot happen in theory')\n",
    "else:\n",
    "    assert status == constants.LpStatusOptimal\n",
    "    print(\"LP has optimal solution.\")\n",
    "    print(\"Decision vars:\", x1.varValue, x2.varValue, x3.varValue)\n",
    "    print(\"Objective:\", 2*x1.varValue - 3*x2.varValue +x3.varValue)"
   ]
  }
 ],
 "metadata": {
  "kernelspec": {
   "display_name": "Python 3",
   "language": "python",
   "name": "python3"
  },
  "language_info": {
   "codemirror_mode": {
    "name": "ipython",
    "version": 3
   },
   "file_extension": ".py",
   "mimetype": "text/x-python",
   "name": "python",
   "nbconvert_exporter": "python",
   "pygments_lexer": "ipython3",
   "version": "3.12.0"
  }
 },
 "nbformat": 4,
 "nbformat_minor": 2
}
