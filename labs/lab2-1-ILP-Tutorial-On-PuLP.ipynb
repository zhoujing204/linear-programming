{
 "cells": [
  {
   "cell_type": "code",
   "execution_count": 1,
   "metadata": {
    "ExecuteTime": {
     "end_time": "2023-10-06T19:26:00.182644Z",
     "start_time": "2023-10-06T19:26:00.166594Z"
    }
   },
   "outputs": [
    {
     "name": "stdout",
     "output_type": "stream",
     "text": [
      "Collecting ipython-autotime\n",
      "  Downloading ipython_autotime-0.3.1-py2.py3-none-any.whl (6.8 kB)\n",
      "Requirement already satisfied: ipython in /opt/conda/lib/python3.7/site-packages (from ipython-autotime) (7.14.0)\n",
      "Requirement already satisfied: setuptools>=18.5 in /opt/conda/lib/python3.7/site-packages (from ipython->ipython-autotime) (46.1.3.post20200325)\n",
      "Requirement already satisfied: jedi>=0.10 in /opt/conda/lib/python3.7/site-packages (from ipython->ipython-autotime) (0.17.0)\n",
      "Requirement already satisfied: decorator in /opt/conda/lib/python3.7/site-packages (from ipython->ipython-autotime) (4.4.2)\n",
      "Requirement already satisfied: pickleshare in /opt/conda/lib/python3.7/site-packages (from ipython->ipython-autotime) (0.7.5)\n",
      "Requirement already satisfied: traitlets>=4.2 in /opt/conda/lib/python3.7/site-packages (from ipython->ipython-autotime) (4.3.3)\n",
      "Requirement already satisfied: prompt-toolkit!=3.0.0,!=3.0.1,<3.1.0,>=2.0.0 in /opt/conda/lib/python3.7/site-packages (from ipython->ipython-autotime) (3.0.5)\n",
      "Requirement already satisfied: pygments in /opt/conda/lib/python3.7/site-packages (from ipython->ipython-autotime) (2.6.1)\n",
      "Requirement already satisfied: backcall in /opt/conda/lib/python3.7/site-packages (from ipython->ipython-autotime) (0.1.0)\n",
      "Requirement already satisfied: pexpect in /opt/conda/lib/python3.7/site-packages (from ipython->ipython-autotime) (4.8.0)\n",
      "Requirement already satisfied: parso>=0.7.0 in /opt/conda/lib/python3.7/site-packages (from jedi>=0.10->ipython->ipython-autotime) (0.7.0)\n",
      "Requirement already satisfied: wcwidth in /opt/conda/lib/python3.7/site-packages (from prompt-toolkit!=3.0.0,!=3.0.1,<3.1.0,>=2.0.0->ipython->ipython-autotime) (0.1.9)\n",
      "Requirement already satisfied: ipython-genutils in /opt/conda/lib/python3.7/site-packages (from traitlets>=4.2->ipython->ipython-autotime) (0.2.0)\n",
      "Requirement already satisfied: six in /opt/conda/lib/python3.7/site-packages (from traitlets>=4.2->ipython->ipython-autotime) (1.14.0)\n",
      "Requirement already satisfied: ptyprocess>=0.5 in /opt/conda/lib/python3.7/site-packages (from pexpect->ipython->ipython-autotime) (0.6.0)\n",
      "Installing collected packages: ipython-autotime\n",
      "Successfully installed ipython-autotime-0.3.1\n",
      "\n",
      "\u001b[1m[\u001b[0m\u001b[34;49mnotice\u001b[0m\u001b[1;39;49m]\u001b[0m\u001b[39;49m A new release of pip is available: \u001b[0m\u001b[31;49m23.1.2\u001b[0m\u001b[39;49m -> \u001b[0m\u001b[32;49m23.2.1\u001b[0m\n",
      "\u001b[1m[\u001b[0m\u001b[34;49mnotice\u001b[0m\u001b[1;39;49m]\u001b[0m\u001b[39;49m To update, run: \u001b[0m\u001b[32;49mpip install --upgrade pip\u001b[0m\n",
      "time: 436 µs (started: 2023-10-06 19:28:32 +00:00)\n"
     ]
    }
   ],
   "source": [
    "try:\n",
    "    %load_ext autotime\n",
    "except:\n",
    "    !pip install ipython-autotime\n",
    "    %load_ext autotime"
   ]
  },
  {
   "cell_type": "markdown",
   "metadata": {},
   "source": [
    "# Formulating and Solving ILPs using PULP.\n",
    "\n",
    "We have already encountered PuLP as a package for solving linear programs. As it turns out, PuLP is quite useful in solving integer linear programming problems as well. We will show a few examples as an introduction to formulating and solving integer linear programming problems using PuLP. The overall approach is very similar to how linear programming problems are setup. We simply need to make sure that the variables are declared as integer or binary variables.\n",
    "\n",
    "Let us start with a simple example.\n",
    "\n",
    "## Example 1 : Variant of Knapsack Problem\n",
    "\n",
    "<div class=\"alert alert-block\" style=\"background-color:lightgray; border-color:black white black white\">\n",
    "You are at a candy store and would like to buy $100$ grams of candies. We have the problem of choosing candies to buy (think of this as the ILP version of the diet problem). We have a bunch of $n$ different varieties of candies $D_1, \\ldots, D_n$ that we could choose from.\n",
    "<ul>\n",
    "  <li> For each candy $D_j$, we can choose at most $k_j$ candies.\n",
    "  <li> The cost of one piece of candy type $D_j$ is given by $p_j$.\n",
    "  <li> The number of Calories/piece in candy type $D_j$ is given by $c_j$.\n",
    "  <li> We need to minimize the overall cost of our purchase.\n",
    "  <li> A candy gift box can hold at most $N$ candies and we wish our candies to fit inside a gift box.\n",
    "  <li> The number of calories must be at least $C_{\\min}$ and at most $C_{\\max}$.\n",
    "</ul>\n",
    "    \n",
    " The problem is an integer linear program since we have to choose a whole number of candies. The problem data is given by $n$ the number of candy types, $(k_1, \\ldots, k_n)$ how many of each candy type are available for purchase, the prices $(p_1, \\ldots, p_n)$, the calories/piece $(c_1, \\ldots, c_n)$, the limit $N$ on number of candies per box and caloric limits $C_{\\min}$ and $C_{\\max}$.\n",
    "    \n",
    "The ILP has decision variables\n",
    "    $$x_1, \\ldots, x_n,$$\n",
    "wherein $x_i$ denotes the number of candies of type $i$ that are to be purchased. Each $x_i \\in \\mathbb{Z}$ (is an integer) and must satisfy the limits:\n",
    "    $$ 0 \\leq x_i \\leq k_i,\\ i = 1, \\ldots, n $$\n",
    "Next, the number of candies chosen cannot exceed $N$:\n",
    "    $$ \\sum_{i=1}^n x_i \\leq N $$\n",
    "We must respect the caloric limits:\n",
    "    $$ C_{\\min} \\leq \\underset{\\text{Calories Consumed}}{\\underbrace{\\sum_{i=1}^n c_i x_i}}  \\leq C_{\\max} $$\n",
    "\n",
    "Finally, the objective is to minimize cost. The overall ILP is\n",
    "\n",
    "$$\\begin{array}{rll}\n",
    "\\min& \\sum_{j=1}^n p_j x_j & \\leftarrow\\ \\text{minimize total cost of purchase} \\\\ \n",
    "\\mathsf{s.t.} & 0 \\leq x_j \\leq k_j & \\leftarrow\\ \\text{limit on max. number of candies of each type} \\\\ \n",
    "& \\sum_{j=1}^n x_j \\leq N & \\leftarrow\\ \\text{limit on total number of candies/box}\\\\ \n",
    "& C_{\\min} \\leq \\sum_{i=1}^n c_i x_i  \\leq C_{\\max}& \\leftarrow\\ \\text{calorie limits} \\\\ \n",
    "& x_1, \\ldots, x_n \\in \\mathbb{Z} & \\leftarrow\\ \\text{integrality constraints}\\\\\n",
    "\\end{array}$$\n",
    "</div>\n",
    "\n",
    "Let's implement this model in python using pulp"
   ]
  },
  {
   "cell_type": "code",
   "execution_count": 2,
   "metadata": {
    "ExecuteTime": {
     "end_time": "2023-10-06T19:26:45.593035Z",
     "start_time": "2023-10-06T19:26:45.583065Z"
    }
   },
   "outputs": [
    {
     "name": "stdout",
     "output_type": "stream",
     "text": [
      "time: 26 ms (started: 2023-10-06 19:28:32 +00:00)\n"
     ]
    }
   ],
   "source": [
    "from pulp import * # get all the definitions from pulp library \n",
    "\n",
    "def solve_candy_knapsack(n, candy_number_limits, candy_prices, candy_calories, N, Cmin, Cmax):\n",
    "    assert len(candy_number_limits) == n, 'size mismatch'\n",
    "    assert len(candy_prices) == n, 'size mismatch for prices'\n",
    "    assert len(candy_calories) == n, 'size mismatch for list of calories'\n",
    "    assert N >= 1, 'total number of candies per box must be 1 or more'\n",
    "    assert Cmin <= Cmax, 'minimum calories is greater than the maximum calories'\n",
    "    prob = LpProblem('Candy Knapsack', LpMinimize)\n",
    "    # add decision variables\n",
    "    # make a list of n decision variables, one for each candy. When declaring the variable, automatically declare\n",
    "    # its lower bound to be 0 and upper bound to be ki from the candy_number_limits array\n",
    "    # also declare the category (cat) of the variable to be integers.\n",
    "    dVars = [LpVariable(f'x{i}',lowBound=0, upBound=ki, cat='Integer') for (i, ki) in enumerate(candy_number_limits)]\n",
    "    # Now set the objective\n",
    "    prob += lpSum([pj*xj for (pj,xj) in zip(candy_prices, dVars)])\n",
    "    # Now add the constraints\n",
    "    prob += lpSum(dVars) <= N # constraints on number of candies per box\n",
    "    calories_of_candies = lpSum([cj*xj for (cj,xj) in zip(candy_calories, dVars)])\n",
    "    prob += calories_of_candies <= Cmax\n",
    "    prob += calories_of_candies >= Cmin\n",
    "    status = prob.solve()\n",
    "    if status == constants.LpStatusInfeasible:\n",
    "        print('Problem is infeasible')\n",
    "        return\n",
    "    elif status == constants.LpStatusUnbounded:\n",
    "        print('Problem is unbounded. Cannot proceed')\n",
    "        return\n",
    "    else:\n",
    "        assert status == constants.LpStatusOptimal, 'Something went wrong while solving since status is either undefined or unsolved'\n",
    "        # extract values\n",
    "        print('Success: optimal answer found')\n",
    "        solution_values = [x.varValue for x in dVars]\n",
    "        for (j, svj) in enumerate(solution_values):\n",
    "            print(f'\\t Candy Type # {j}: {svj} candies')\n",
    "        print(f'Total Cost: {sum([(pj*svj) for (pj, svj) in zip(candy_prices, solution_values)])}')\n",
    "        print(f'Calories: {sum([cj*xj for (cj,xj) in zip(candy_calories, solution_values)])}')"
   ]
  },
  {
   "cell_type": "code",
   "execution_count": 3,
   "metadata": {
    "ExecuteTime": {
     "end_time": "2023-10-06T19:26:46.436401Z",
     "start_time": "2023-10-06T19:26:46.414094Z"
    }
   },
   "outputs": [
    {
     "name": "stdout",
     "output_type": "stream",
     "text": [
      "Success: optimal answer found\n",
      "\t Candy Type # 0: 2.0 candies\n",
      "\t Candy Type # 1: 0.0 candies\n",
      "\t Candy Type # 2: 10.0 candies\n",
      "\t Candy Type # 3: 0.0 candies\n",
      "\t Candy Type # 4: 0.0 candies\n",
      "Total Cost: 1.4\n",
      "Calories: 270.0\n",
      "time: 23.4 ms (started: 2023-10-06 19:28:32 +00:00)\n"
     ]
    }
   ],
   "source": [
    "n = 5\n",
    "candy_number_limits = [10, 12, 10, 11, 10]\n",
    "candy_prices = [0.2, 0.5, 0.1, 0.4, 0.8]\n",
    "candy_calories = [25, 12, 22, 14, 33]\n",
    "solve_candy_knapsack(5, candy_number_limits, candy_prices, candy_calories, 12, 250, 500)\n"
   ]
  },
  {
   "cell_type": "markdown",
   "metadata": {},
   "source": [
    "## Set Cover Problem\n",
    "\n",
    "\n",
    "We will now present another example involving binary variables. \n",
    "\n",
    "<div class=\"alert alert-block\" style=\"background-color:lightgray; border-color:black white black white\">\n",
    "\n",
    "Let's assume that you are planning a company party and there are $n$ people conveniently numbered $1, \\ldots, n$ that you could invite. We wish to invite at least $m$ people to attend. Therefore, HR tells you to respect the following constraints:\n",
    "<ul>\n",
    "    <li> There are teams of employees $T_1, \\ldots, T_k$ wherein $T_i \\subseteq \\{1, \\ldots, n\\}$ is a subset of employees. An employee can be in multiple teams. We wish to ensure that at least $1/4$th of the members from each team are invited. Note that the same person could be invited as a representative of multiple teams.\n",
    "    <li> We are given a set of pairs $G_1, \\ldots, G_l$ wherein each $G_j$ consists of a set of employees who are involved in grievances against each other. We cannot invite more than one employee from each grievance set $G_j$ in order to keep the party festive.\n",
    "    <li> The HR department with the help of its machine learning algorithms has assigned a <i> party pooper</i> score $s_i$ to employee $i$ where the higher the score, the more likely they are to be a party pooper. We wish to minimize the total party pooper score of all the employees invited to the party.\n",
    "</ul>\n",
    "    \n",
    "<b> Decision Variables: </b> We will have decision variables $w_1, \\ldots, w_n$ wherein $w_i = 1 $ indicates that employee $i$ is invited to the party and $w_i = 0$ indicates that they are not.\n",
    "\n",
    "<b> Objective : </b>  $\\min\\ \\sum_{i=1}^n s_i w_i$ wherein $s_i$ is the \"party pooper\" score for employee $i$.\n",
    "   \n",
    "<b> Constraints: </b> We will have the following constraints:\n",
    "<ul>\n",
    "    <li> $ \\sum_{j \\in T_i} w_j \\geq |T_i|/4\\ \\text{for each}\\ T_i$ (at least one fourth of members from each team)\n",
    "    <li> $ \\sum_{j \\in G_i} w_j \\leq 1\\ \\text{for each}\\ G_i$ (at most one from each grievance set)\n",
    "    <li> $ \\sum_{j=1}^n w_j \\geq m$ (at least $m$ people invited in total )\n",
    "    <li> $ w_j \\in \\{0, 1\\}$ for all $j \\in \\{1, \\ldots, n\\}$ (binary variables)\n",
    "</ul>\n",
    "</div>"
   ]
  },
  {
   "cell_type": "code",
   "execution_count": 4,
   "metadata": {
    "ExecuteTime": {
     "end_time": "2023-10-06T19:26:48.134977Z",
     "start_time": "2023-10-06T19:26:48.125458Z"
    }
   },
   "outputs": [
    {
     "name": "stdout",
     "output_type": "stream",
     "text": [
      "time: 3.33 ms (started: 2023-10-06 19:28:32 +00:00)\n"
     ]
    }
   ],
   "source": [
    "def plan_invite_list(n, m, T_lists, G_lists, pp_scores):\n",
    "    assert m >= 0, 'Cannot invite a negative number of people'\n",
    "    assert all( 0 <= j < n for ti in T_lists for j in ti ) # check that all employee IDs are valid\n",
    "    assert all( 0<= j < n for gi in G_lists for j in gi)\n",
    "    assert len(pp_scores) == n, 'Length of party pooper scores list does not match number of employees'\n",
    "    prob = LpProblem('PartyPlanner', LpMinimize)\n",
    "    # create decision variables\n",
    "    dvars = [LpVariable(f'w_{i}', cat='Binary') for i in range(n)] # declare variables as binary\n",
    "    # if we declared variables as binary they are automatically treated as either 0 or 1 in the optimization \n",
    "    # create objective\n",
    "    prob += lpSum([si * wi for (si, wi) in zip(pp_scores, dvars)])\n",
    "    # limit on number of invitees\n",
    "    prob += sum(dvars) >= m\n",
    "    # at least two people from each team\n",
    "    for ti in T_lists:\n",
    "        prob += lpSum([dvars[j] for j in ti]) >= len(ti)/4\n",
    "    # no more than one person per grievance set\n",
    "    for gj in G_lists:\n",
    "        prob += lpSum(dvars[j] for j in gj) <= 1\n",
    "    # solve and get the result\n",
    "    status = prob.solve()\n",
    "    if status == constants.LpStatusInfeasible:\n",
    "        print('infeasible LP')\n",
    "        return \n",
    "    elif status != constants.LpStatusOptimal:\n",
    "        print('Unbounded or undefined LP Status -- there is some mistake in the problem formulation since it cannot happen in theory')\n",
    "        return \n",
    "    else: \n",
    "        assert status == constants.LpStatusOptimal\n",
    "        # extract values\n",
    "        sol = [x.varValue for x in dvars]\n",
    "        for (j,wj) in enumerate(sol):\n",
    "            if wj >= 1:\n",
    "                print(f'Invite person {j}')\n",
    "        print(f'Total # of invitees: {sum(sol)}')\n",
    "        for j,tj in enumerate(T_lists):\n",
    "            print(f'# of invitees from Team # {j}: {sum([sol[k] for k in tj])}')\n",
    "        for k, gk in enumerate(G_lists):\n",
    "            print(f'# of invitees from Grievance set # {k}: {sum([sol[j] for j in gk])}')\n",
    "        return\n",
    "        "
   ]
  },
  {
   "cell_type": "code",
   "execution_count": 5,
   "metadata": {
    "ExecuteTime": {
     "end_time": "2023-10-06T19:26:51.445453Z",
     "start_time": "2023-10-06T19:26:51.421039Z"
    }
   },
   "outputs": [
    {
     "name": "stdout",
     "output_type": "stream",
     "text": [
      "Invite person 0\n",
      "Invite person 1\n",
      "Invite person 2\n",
      "Invite person 6\n",
      "Invite person 8\n",
      "Invite person 11\n",
      "Invite person 12\n",
      "Invite person 13\n",
      "Invite person 14\n",
      "Invite person 15\n",
      "Invite person 16\n",
      "Invite person 17\n",
      "Total # of invitees: 12.0\n",
      "# of invitees from Team # 0: 2.0\n",
      "# of invitees from Team # 1: 2.0\n",
      "# of invitees from Team # 2: 7.0\n",
      "# of invitees from Team # 3: 5.0\n",
      "# of invitees from Team # 4: 2.0\n",
      "# of invitees from Grievance set # 0: 1.0\n",
      "# of invitees from Grievance set # 1: 0.0\n",
      "# of invitees from Grievance set # 2: 0.0\n",
      "# of invitees from Grievance set # 3: 1.0\n",
      "# of invitees from Grievance set # 4: 0.0\n",
      "# of invitees from Grievance set # 5: 0.0\n",
      "# of invitees from Grievance set # 6: 1.0\n",
      "# of invitees from Grievance set # 7: 1.0\n",
      "time: 14.6 ms (started: 2023-10-06 19:28:32 +00:00)\n"
     ]
    }
   ],
   "source": [
    "n = 20\n",
    "m = 12\n",
    "T_lists = [[1, 5, 12, 18, 19], [2, 3, 4, 6, 7], [1, 2, 4, 7, 8, 9, 10, 11, 12, 14, 16], [1, 3, 4, 5, 6, 13, 15, 17, 18, 19], [1, 5, 7, 8,9, 19]]\n",
    "G_lists = [[1, 5], [5, 19], [4, 7], [4, 12], [4, 19], [4, 18], [3, 4, 15, 19], [4, 7, 18, 2]]\n",
    "pp_scores = [1, 2, 2, 1, 4, 5, 1, 2, 3, 4, 5, 1, 2, 3.5, 1, 0.6, 0, 1, 8, 8]\n",
    "plan_invite_list(n, m, T_lists, G_lists, pp_scores)"
   ]
  },
  {
   "cell_type": "code",
   "execution_count": 6,
   "metadata": {
    "ExecuteTime": {
     "end_time": "2023-10-06T19:26:54.822562Z",
     "start_time": "2023-10-06T19:26:54.789121Z"
    }
   },
   "outputs": [
    {
     "name": "stdout",
     "output_type": "stream",
     "text": [
      "\t Team # 0: [26, 4, 28, 5]\n",
      "\t Team # 1: [8, 11, 12, 16, 19, 21, 23, 25, 29, 30]\n",
      "\t Team # 2: [1, 2, 10, 21, 23, 29, 30]\n",
      "\t Team # 3: [8, 11, 23, 24, 26, 27]\n",
      "\t Team # 4: [1, 2, 4, 20, 24]\n",
      "\t Team # 5: [18, 12, 21, 15]\n",
      "\t Team # 6: [3, 4, 6, 7, 8, 12, 14, 27, 28]\n",
      "\t Team # 7: [16, 12, 4, 30]\n",
      "\t Team # 8: [5, 6, 13, 15, 16]\n",
      "\t Team # 9: [17, 27, 1, 7]\n",
      "\t Team # 10: [2, 6, 10, 16, 17, 20, 21, 23, 25]\n",
      "\t Team # 11: [8, 11, 5]\n",
      "\t Team # 12: [2, 6, 7, 9, 13, 18, 20, 22, 31]\n",
      "\t Team # 13: [8, 14, 18, 27, 29]\n",
      "\t Team # 14: [24, 19, 20, 5]\n",
      "\t Team # 15: [2, 4, 7, 17, 21, 28, 30, 31]\n",
      "\t Team # 16: [1, 18, 14, 15]\n",
      "\t Team # 17: [0, 1, 2, 4, 8, 11, 12, 19, 21, 22]\n",
      "\t Team # 18: [9, 16, 21, 23, 25, 26, 28]\n",
      "\t Team # 19: [0, 16, 30, 6]\n",
      "\t Team # 20: [2, 9, 11, 26, 28]\n",
      "\t Team # 21: [2, 4, 6, 11, 13, 20, 22, 29]\n",
      "\t Team # 22: [8, 13, 30]\n",
      "\t Team # 23: [13, 15, 24, 28, 29]\n",
      "\t Team # 24: [3, 5, 12, 15, 21, 25, 31]\n",
      "\t Team # 25: [3, 4, 23, 24, 27, 28, 29]\n",
      "\t Team # 26: [5, 7, 8, 9, 18, 19, 22, 27]\n",
      "\t Team # 27: [16, 2, 20, 21]\n",
      "\t Team # 28: [1, 2, 11, 12, 13, 15, 17, 31]\n",
      "\t Team # 29: [1, 9, 12, 14, 30, 31]\n",
      "\t Grievance set # 0: [11, 28, 5]\n",
      "\t Grievance set # 1: [10, 2, 23]\n",
      "\t Grievance set # 2: [0, 11]\n",
      "\t Grievance set # 3: [2, 10, 22]\n",
      "\t Grievance set # 4: [26, 21]\n",
      "\t Grievance set # 5: [25, 14]\n",
      "Invite person 1\n",
      "Invite person 4\n",
      "Invite person 6\n",
      "Invite person 8\n",
      "Invite person 9\n",
      "Invite person 12\n",
      "Invite person 14\n",
      "Invite person 16\n",
      "Invite person 17\n",
      "Invite person 18\n",
      "Invite person 19\n",
      "Invite person 21\n",
      "Invite person 22\n",
      "Invite person 23\n",
      "Invite person 24\n",
      "Invite person 28\n",
      "Invite person 29\n",
      "Invite person 30\n",
      "Total # of invitees: 18.0\n",
      "# of invitees from Team # 0: 2.0\n",
      "# of invitees from Team # 1: 8.0\n",
      "# of invitees from Team # 2: 5.0\n",
      "# of invitees from Team # 3: 3.0\n",
      "# of invitees from Team # 4: 3.0\n",
      "# of invitees from Team # 5: 3.0\n",
      "# of invitees from Team # 6: 6.0\n",
      "# of invitees from Team # 7: 4.0\n",
      "# of invitees from Team # 8: 2.0\n",
      "# of invitees from Team # 9: 2.0\n",
      "# of invitees from Team # 10: 5.0\n",
      "# of invitees from Team # 11: 1.0\n",
      "# of invitees from Team # 12: 4.0\n",
      "# of invitees from Team # 13: 4.0\n",
      "# of invitees from Team # 14: 2.0\n",
      "# of invitees from Team # 15: 5.0\n",
      "# of invitees from Team # 16: 3.0\n",
      "# of invitees from Team # 17: 7.0\n",
      "# of invitees from Team # 18: 5.0\n",
      "# of invitees from Team # 19: 3.0\n",
      "# of invitees from Team # 20: 2.0\n",
      "# of invitees from Team # 21: 4.0\n",
      "# of invitees from Team # 22: 2.0\n",
      "# of invitees from Team # 23: 3.0\n",
      "# of invitees from Team # 24: 2.0\n",
      "# of invitees from Team # 25: 5.0\n",
      "# of invitees from Team # 26: 5.0\n",
      "# of invitees from Team # 27: 2.0\n",
      "# of invitees from Team # 28: 3.0\n",
      "# of invitees from Team # 29: 5.0\n",
      "# of invitees from Grievance set # 0: 1.0\n",
      "# of invitees from Grievance set # 1: 1.0\n",
      "# of invitees from Grievance set # 2: 0.0\n",
      "# of invitees from Grievance set # 3: 1.0\n",
      "# of invitees from Grievance set # 4: 1.0\n",
      "# of invitees from Grievance set # 5: 1.0\n",
      "time: 19 ms (started: 2023-10-06 19:28:32 +00:00)\n"
     ]
    }
   ],
   "source": [
    "from random import randint\n",
    "n = 32\n",
    "m = 18\n",
    "num_teams = 30\n",
    "num_grievances = 6\n",
    "T_lists = [list(set([randint(0,31) for k in range(randint(3,10))])) for i in range(num_teams)] # 30 random teams\n",
    "G_lists = [list(set([randint(0,31) for k in range(randint(2,4))])) for i in range(num_grievances)] # 6 random pairs of grievances\n",
    "for i, ti in enumerate(T_lists):\n",
    "    print(f'\\t Team # {i}: {ti}')\n",
    "for j, gj in enumerate(G_lists):\n",
    "    print(f'\\t Grievance set # {j}: {gj}')\n",
    "pp_scores = [randint(0, 8) for i in range(n)]\n",
    "plan_invite_list(n, m, T_lists, G_lists, pp_scores)"
   ]
  },
  {
   "cell_type": "markdown",
   "metadata": {},
   "source": [
    "# That's All Folks"
   ]
  }
 ],
 "metadata": {
  "kernelspec": {
   "display_name": "Python 3",
   "language": "python",
   "name": "python3"
  },
  "language_info": {
   "codemirror_mode": {
    "name": "ipython",
    "version": 3
   },
   "file_extension": ".py",
   "mimetype": "text/x-python",
   "name": "python",
   "nbconvert_exporter": "python",
   "pygments_lexer": "ipython3",
   "version": "3.7.6"
  }
 },
 "nbformat": 4,
 "nbformat_minor": 5
}
