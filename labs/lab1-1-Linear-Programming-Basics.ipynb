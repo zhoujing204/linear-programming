{
 "cells": [
  {
   "cell_type": "code",
   "execution_count": null,
   "metadata": {
    "ExecuteTime": {
     "end_time": "2023-10-06T13:01:18.215418Z",
     "start_time": "2023-10-06T13:01:18.197693Z"
    }
   },
   "outputs": [],
   "source": [
    "try:\n",
    "    %load_ext autotime\n",
    "except:\n",
    "    !pip install ipython-autotime\n",
    "    %load_ext autotime"
   ]
  },
  {
   "cell_type": "markdown",
   "metadata": {},
   "source": [
    "# Linear Programming\n",
    "\n",
    "In this module, we will study linear programming problems:\n",
    " - What is a linear programming problem?\n",
    " - Why are linear programming problems useful?\n",
    " - How do we model some important algorithmic problems as linear programs?\n",
    " - How do we solve linear programs?\n",
    "     - A short tutorial on solving LPs in Python with pointers to important software.\n",
    " - Finally, we will study a brief overview of algorithms for linear programming.\n",
    " \n",
    "This module and the next one in this course are part of an important subject of _mathematical optimization_ or _mathematical programming_. The programming here refers to an older notion that is closer to \"scheduling\" or \"planning\" rather than programming a computer. \n",
    " \n",
    "## Linear Programming (LP) Problems\n",
    "\n",
    "A linear program is an _optimization problem_ where we try to maximize or minimize an _objective_ subject to some _constraints_. Let's take a very simple example.\n",
    "\n",
    "### Simple Example\n",
    "\n",
    "Amy and George would like to split a cake between themselves. Here are the rules for their cake splitting.\n",
    "  - Amy would like to have at least one-third of the cake (or more).\n",
    "  - George would like to have at least one-fourth of the cake (or more).\n",
    "  - George cannot have more than half the cake (he is on a diet).\n",
    "  - Amy will donate $\\$10$ times her share of the cake to charity. \n",
    "    - For example, if Amy receives $0.35$ share of the cake, she will provide $\\$3.50$ to charity.\n",
    "  - George will donate $\\$20 $ times his share of the cake to charity.\n",
    "    - For example, if George receives $0.4$ share of the cake, he will donate $\\$8.00$ to charity.\n",
    "\n",
    "We wish to find a way to split the full cake between Amy and George so that we maximize the money donated to charity while respecting the constraints above.\n",
    "\n",
    "~~~\n",
    "Take a minute and think through the problem. \n",
    "What fraction of the cake would you give to Amy? \n",
    "How much cake does George get? \n",
    "How much money does the charity get?\n",
    "~~~\n",
    "\n",
    "Intuitively this problem is easy to reason about: George pays a lot more than Amy. A greedy strategy is to give George as much cake as he can eat while respecting all the constraints. Following this, we conclude that the optimal solution is as follows:\n",
    "  - George gets half the cake, and \n",
    "  - Amy gets the remaining half. \n",
    "  \n",
    "We can check that this satisfies all the constraints. Furthermore, it is clear that this will also give us the maximum amount of money for charity: $\\$20 \\times 0.5 + \\$10 \\times 0.5 = \\$15$.\n",
    "\n",
    "This is an example of an optimization problem.\n",
    " - Maximize objective: money given to charity.\n",
    " - Subject to Constraints:\n",
    "   - Constraint on Amy's share.\n",
    "   - Constraints on George's share.\n",
    "\n",
    "To make it precise and mathematical, let $x$ denote Amy's share of the cake as a fraction of the entire cake and $y$ denote George's share as a fraction of the entire cake.\n",
    "\n",
    "$x,y$ are called the _decision variables_ for the problem. They represent real numbers and in this instance the fractions of cake given to Amy and George respectively.\n",
    "\n",
    "- Maximize objective: $10 x + 20 y$ (this is the money charity will get)\n",
    "- Subject to constraints:\n",
    "  - $x \\geq 0, y \\geq 0, x + y \\leq 1$ ($x,y$ denote fractions of a cake).\n",
    "  - $x \\geq \\frac{1}{3}$ (Amy gets at least one-third)\n",
    "  - $y \\geq \\frac{1}{4}$ (George gets at least one-fourth)\n",
    "  - $y \\leq \\frac{1}{2}$ (George is on a diet)\n",
    "\n",
    "We write it as the LP \n",
    "\n",
    "$$ \\begin{array}{rllll}\n",
    "\\max & 10 x + 20 y \\\\ \n",
    "\\mathsf{subject\\ to} & x & \\geq & 0 & \\text{Amy's share must be non-negative}\\\\ \n",
    "& y & \\geq & 0 & \\text{George's share must be non-negative}\\\\\n",
    "& x + y & \\leq & 1 & \\text{They cannot consume more cake than what is available}\\\\\n",
    "& x & \\geq & \\frac{1}{3} \\\\ \n",
    "& y & \\geq & \\frac{1}{4} \\\\ \n",
    "& y & \\leq & \\frac{1}{2} \\\\ \n",
    "\\end{array}$$\n",
    "\n",
    "## Linear Program (Definition)\n",
    "\n",
    "A linear programming problem has real-valued decision variables $x_1, x_2, \\ldots, x_n \\in \\mathbb{R}$ and is of the form:\n",
    "\n",
    "$$\\begin{array}{rclll}\n",
    "\\max & c_1 x_1 + c_2 x_2  +\\cdots + c_n x_n & & &\\text{linear function of decision variables} \\\\ \n",
    "\\mathsf{s.t.} & a_{11} x_1 + a_{12} x_2 + \\cdots + a_{1n} x_n & \\leq & b_1 & \\text{Constr. 1} \\\\ \n",
    "& a_{21} x_1 + a_{22} x_2 + \\cdots + a_{2n} x_n & \\leq & b_2 & \\text{Constr.  2} \\\\\n",
    "& \\ddots & & \\vdots \\\\ \n",
    "& a_{m1} x_1 + a_{m2} x_2 + \\cdots + a_{mn} x_n & \\leq & b_m & \\text{Constr.  m}\\\\ \n",
    "\\end{array}$$\n",
    "\n",
    "The key points are : \n",
    "  - Decision variables take on real number values.\n",
    "  - The objective function is linear (we can multiply decision variables by some constant factors and add them)\n",
    "  - The constraints are linear inequalities: compare a linear function over decision variables with constants.\n",
    "  \n",
    "Linear Programming problems are very simple and even restrictive in scope. Nevertheless, they are one of the most widely used class of optimization problems and many algorithmic problems can be translated into a linear program. There are very efficient algorithms for solving LPs including the famous Simplex algorithm of Danzig and the interior point methods. We can solve LPs with millions of variables and constraints quite fast."
   ]
  },
  {
   "cell_type": "code",
   "execution_count": 20,
   "metadata": {
    "ExecuteTime": {
     "end_time": "2023-10-06T13:01:18.491443Z",
     "start_time": "2023-10-06T13:01:18.218251Z"
    }
   },
   "outputs": [
    {
     "name": "stdout",
     "output_type": "stream",
     "text": [
      "AmyShare = 0.5\n",
      "GeorgeShare = 0.5\n",
      "Objective value - money obtained for charity: 15.0\n"
     ]
    }
   ],
   "source": [
    "from pulp import *\n",
    "# pulp is a very nice python interface that can work with numerous LP solvers in the backend.\n",
    "# It allows us a very simple and intuitive interface to write and solve LPs.\n",
    "# Create the problem and specify that we are maximizing the objective\n",
    "model = LpProblem(\"AmyGeorgeCakeCuttingProblem\", LpMaximize)\n",
    "x = LpVariable(\"AmyShare\", 0.0, 1.0)\n",
    "y = LpVariable(\"GeorgeShare\", 0.0, 1.0)\n",
    "model += 10 * x + 20 * y # add the objective function to the model.\n",
    "# adding the constraints.\n",
    "model += x+y <=1 , \"fractions sum up to less than eq to 1\"\n",
    "model += x >= 1/3, \"Amy min share\"\n",
    "model += y >= 1/4, \"George min share\"\n",
    "model += y <= 1/2, \"George diet\"\n",
    "model.solve() # solve the problem\n",
    "# Each of the variables is printed with it's resolved optimum value\n",
    "for v in model.variables():\n",
    "    print(v.name, \"=\", v.varValue)\n",
    "print(f'Objective value - money obtained for charity: {value(model.objective)}')"
   ]
  },
  {
   "cell_type": "markdown",
   "id": "7aef0266",
   "metadata": {},
   "source": [
    "My Example"
   ]
  },
  {
   "cell_type": "code",
   "execution_count": 15,
   "id": "c40b60b5",
   "metadata": {},
   "outputs": [
    {
     "data": {
      "text/plain": [
       "1"
      ]
     },
     "execution_count": 15,
     "metadata": {},
     "output_type": "execute_result"
    }
   ],
   "source": [
    "from pulp import *\n",
    "\n",
    "model = LpProblem(\"MyExample\",LpMaximize)\n",
    "x = LpVariable(\"AmyShare\", 0.0, 1.0)\n",
    "y = LpVariable(\"BobShare\", 0.0, 1.0)\n",
    "\n",
    "# object function\n",
    "model += 10*x + 20*y\n",
    "\n",
    "# adding the constraints.\n",
    "model += x+y <=1 , \"fractions sum up to less than eq to 1\"\n",
    "model += x >= 1/3, \"Amy min share\"\n",
    "model += y >= 1/4, \"George min share\"\n",
    "model += y <= 1/2, \"George diet\"\n",
    "model.solve() # solve the problem"
   ]
  },
  {
   "cell_type": "code",
   "execution_count": 16,
   "id": "f93cd6e4",
   "metadata": {},
   "outputs": [
    {
     "data": {
      "text/plain": [
       "MyExample:\n",
       "MAXIMIZE\n",
       "10*AmyShare + 20*BobShare + 0\n",
       "SUBJECT TO\n",
       "fractions_sum_up_to_less_than_eq_to_1: AmyShare + BobShare <= 1\n",
       "\n",
       "Amy_min_share: AmyShare >= 0.333333333333\n",
       "\n",
       "George_min_share: BobShare >= 0.25\n",
       "\n",
       "George_diet: BobShare <= 0.5\n",
       "\n",
       "VARIABLES\n",
       "AmyShare <= 1 Continuous\n",
       "BobShare <= 1 Continuous"
      ]
     },
     "execution_count": 16,
     "metadata": {},
     "output_type": "execute_result"
    }
   ],
   "source": [
    "# print model information\n",
    "model"
   ]
  },
  {
   "cell_type": "code",
   "execution_count": 14,
   "id": "f9824492",
   "metadata": {},
   "outputs": [
    {
     "name": "stdout",
     "output_type": "stream",
     "text": [
      "AmyShare = 0.5\n",
      "BobShare = 0.5\n"
     ]
    }
   ],
   "source": [
    "for v in model.variables():\n",
    "    print(v.name, \"=\", v.varValue)"
   ]
  },
  {
   "cell_type": "code",
   "execution_count": 21,
   "id": "d6e2b7f6",
   "metadata": {},
   "outputs": [
    {
     "name": "stdout",
     "output_type": "stream",
     "text": [
      "Objective value - money obtained for charity: 15.0\n"
     ]
    }
   ],
   "source": [
    "print(f'Objective value - money obtained for charity: {value(model.objective)}')"
   ]
  },
  {
   "cell_type": "markdown",
   "metadata": {},
   "source": [
    "## Solving Linear Programs\n",
    "\n",
    "Solving a linear program should ideally yield the optimal solution in the form of \n",
    " 1. The values given to each decision variable.\n",
    " 2. The overall value of the objective function. \n",
    " Thus, solving the LP for Amy and George's cake cutting problem, we obtain that $x = 0.5, y = 0.5$ is the optimal solution whose objective value is $15$.\n",
    "\n",
    "However, not every LP needs to have such an optimal solution. There are two special cases to be aware of.\n",
    "\n",
    "### Infeasible Problems\n",
    "\n",
    "Sometimes a LP may be infeasible. This happens because the constraints are contradictory to each other and thus the problem has no solutions at all.  Here is an example:\n",
    "\n",
    "$$ \\begin{array}{l}\n",
    "\\max x - y\\\\\n",
    "\\mathsf{s.t.} \\ \\  x \\geq 1,\\\\\n",
    "\\ \\ \\ \\ \\; \\; x + y \\leq 2,\\\\\n",
    "\\ \\ \\ \\ \\; \\; y \\geq 1.5 \n",
    " \\end{array} $$\n",
    " \n",
    " Unfortunately, if we insist that $x \\geq 1 $ and $y \\geq 1.5$ the first and third constraints respectively, we already know that this implies $x + y \\geq 2.5$ must hold. This directly contradicts the second constraint.\n",
    "Thus no solutions can be found to satisfy these constraints.\n",
    "\n"
   ]
  },
  {
   "cell_type": "code",
   "execution_count": 22,
   "metadata": {
    "ExecuteTime": {
     "end_time": "2023-10-06T13:01:18.516069Z",
     "start_time": "2023-10-06T13:01:18.494629Z"
    }
   },
   "outputs": [
    {
     "data": {
      "text/plain": [
       "-1"
      ]
     },
     "execution_count": 22,
     "metadata": {},
     "output_type": "execute_result"
    }
   ],
   "source": [
    "model = LpProblem(\"InfeasibleProblem\", LpMaximize)\n",
    "x = LpVariable(\"x\", 1.0, None) # create x with lower limit x >= 1\n",
    "y = LpVariable(\"y\", 1.5, None) # create y with lower limit y >= 1.5\n",
    "model += x-y\n",
    "model += x+y <= 2\n",
    "model.solve() # 返回-1表示无解"
   ]
  },
  {
   "cell_type": "code",
   "execution_count": 23,
   "id": "cf12c418",
   "metadata": {},
   "outputs": [
    {
     "name": "stdout",
     "output_type": "stream",
     "text": [
      "x = 1.0\n",
      "y = 1.5\n"
     ]
    }
   ],
   "source": [
    "# 最接近约束条件的变量？\n",
    "for v in model.variables():\n",
    "    print(v.name, \"=\", v.varValue)"
   ]
  },
  {
   "cell_type": "code",
   "execution_count": 24,
   "id": "968d45cf",
   "metadata": {},
   "outputs": [
    {
     "name": "stdout",
     "output_type": "stream",
     "text": [
      "-0.5\n"
     ]
    }
   ],
   "source": [
    "# 最接近约束条件的目标函数值？\n",
    "print(value(model.objective))"
   ]
  },
  {
   "cell_type": "markdown",
   "metadata": {},
   "source": [
    "### Unbounded Problems\n",
    "\n",
    "Even if a LP is feasible, it is possible that the optimal value can be unbounded. In other words, for a maximization problem one can obtain larger and larger solutions without a bound (or smaller and smaller solutions for minimization problems). \n",
    "Here is a simple example \n",
    "$$ \\max\\ x  + y\\ \\mathsf{s.t.}\\ x \\geq 1,\\ y \\geq 0 $$\n",
    "Note that since there is no upper limit on $x,y$ we have no limit on the solution."
   ]
  },
  {
   "cell_type": "code",
   "execution_count": 25,
   "metadata": {
    "ExecuteTime": {
     "end_time": "2023-10-06T13:01:18.537536Z",
     "start_time": "2023-10-06T13:01:18.520404Z"
    }
   },
   "outputs": [
    {
     "data": {
      "text/plain": [
       "-2"
      ]
     },
     "execution_count": 25,
     "metadata": {},
     "output_type": "execute_result"
    }
   ],
   "source": [
    "model = LpProblem(\"UnboundedProblem\", LpMaximize)\n",
    "x = LpVariable(\"x\", 1.0, None) # create x with lower limit x >= 1\n",
    "y = LpVariable(\"y\", 0.0, None) # create y with lower limit y >= 0\n",
    "model += x+y\n",
    "model.solve()"
   ]
  },
  {
   "cell_type": "code",
   "execution_count": 26,
   "id": "3aec8758",
   "metadata": {},
   "outputs": [
    {
     "data": {
      "text/plain": [
       "UnboundedProblem:\n",
       "MAXIMIZE\n",
       "1*x + 1*y + 0\n",
       "VARIABLES\n",
       "1 <= x Continuous\n",
       "y Continuous"
      ]
     },
     "execution_count": 26,
     "metadata": {},
     "output_type": "execute_result"
    }
   ],
   "source": [
    "model"
   ]
  },
  {
   "cell_type": "markdown",
   "metadata": {},
   "source": [
    "### Solving LPs: Summary\n",
    "Thus, an LP can have three possible solutions.\n",
    "  - __Optimal:__ We have an optimal solution $x_1^*, \\ldots, x_n^*$ that achieves the \"best\" value of the objective function.\n",
    "  - __Infeasible:__ The constraints do not have any solutions (they are mutually contradictory).\n",
    "  - __Unbounded:__ There is no bound on the optimal solution. "
   ]
  },
  {
   "cell_type": "markdown",
   "metadata": {},
   "source": [
    "\n",
    "### Variants/Extensions of Linear Programming\n",
    "\n",
    "We can extend our definition of LP in a few trivial but useful ways:\n",
    "\n",
    "  - Equality constraints: LPs can accomodate constraints of the form \n",
    "    $$ a_1 x_1 + \\cdots + a_n x_n = b$$\n",
    "    since an equality constraint of the form $f = 0$ is a combination of two inequality constraints $ f \\geq 0$ and  $f \\leq 0$.\n",
    "    \n",
    "  - Minimization of objective instead of maximizing. If we wish to minimize an objective $c_1 x_1 + \\cdots + c_n x_n$, we may instead maximize its negation $- c_1 x_1 - c_2 x_2 - \\cdots - c_n x_n$ (just remember to flip the sign of your answer).\n",
    "\n",
    "However, the following \"extensions\" to linear programming are not allowed:\n",
    "  - Nonlinear objective functions or constraints will change the nature of the problem and they are no longer linear programs. Example: \n",
    "   $$ \\begin{array}{rlll}\n",
    "   \\max & x_1 x_2 - \\sin(x_1) + \\cos^2 (x_2) && \\text{non-linear objectives -- not allowed}\\\\ \n",
    "   \\mathsf{s.t.} & x_1 - x_2 & \\leq 5 \\\\ \n",
    "   & x_1 - x_2 x_3 & \\leq 4 & \\text{non-linear constraint -- not allowed} \n",
    "   \\end{array} $$\n",
    "  - The constraints are implicitly \"and\"-ed together. In other words, _all the constraints_ have to be satisfied. If you have two constraints where you want either one constraint to hold or another but not necessarily both, that changes the nature of the problem completely and it is no longer a linear program.\n",
    "  - The decision variables are real-numbers. They can take on values like $1.3331555$ or $\\pi$. If the decision variables can only take on whole number values, that changes the nature of the problem to something called an integer linear program that we will study next week. \n",
    "   "
   ]
  }
 ],
 "metadata": {
  "celltoolbar": "Attachments",
  "kernelspec": {
   "display_name": "Python 3",
   "language": "python",
   "name": "python3"
  },
  "language_info": {
   "codemirror_mode": {
    "name": "ipython",
    "version": 3
   },
   "file_extension": ".py",
   "mimetype": "text/x-python",
   "name": "python",
   "nbconvert_exporter": "python",
   "pygments_lexer": "ipython3",
   "version": "3.12.0"
  }
 },
 "nbformat": 4,
 "nbformat_minor": 5
}
